{
 "cells": [
  {
   "cell_type": "code",
   "execution_count": 1,
   "id": "0d16981e-c9b5-4a73-adbd-ba4bcd964c01",
   "metadata": {},
   "outputs": [],
   "source": [
    "import pandas as pd\n",
    "import numpy as np\n",
    "\n",
    "class SME():\n",
    "    \n",
    "    def __init__(self):\n",
    "        self.asked = 0\n",
    "        self.df = self.get()\n",
    "        \n",
    "    def get(self):\n",
    "        X_train = pd.read_csv('https://raw.githubusercontent.com/msaricaumbc/DS_data/master/ds602/final/employee_departure_dataset_X.csv')\n",
    "        y_train = pd.read_csv('https://raw.githubusercontent.com/msaricaumbc/DS_data/master/ds602/final/employee_departure_dataset_y.csv')\n",
    "\n",
    "        X_train['Left'] = y_train\n",
    "        return X_train\n",
    "    \n",
    "    def ask(self, valuedict):\n",
    "        self.asked += 1\n",
    "        #  print(self.asked)\n",
    "        \n",
    "        if self.asked > 500000:\n",
    "            raise Exception(\"Sorry, you have asked enough\")\n",
    "\n",
    "        arr = []\n",
    "        for prop in valuedict:\n",
    "            val = valuedict[prop]\n",
    "\n",
    "            if val is None: \n",
    "                continue\n",
    "\n",
    "            val = f\"'{val}'\" if isinstance(val,str) else val\n",
    "            # print(prop, val)\n",
    "            arr.append(f'{prop} == {val}')\n",
    "\n",
    "            query = ' and '.join(arr)\n",
    "        result = self.df.query(query)\n",
    "\n",
    "        if len(result) == 0:\n",
    "            raise Exception(\"I don't know\")\n",
    "        \n",
    "        return (int)(result['Left'].mean())"
   ]
  },
  {
   "cell_type": "code",
   "execution_count": 2,
   "id": "d7077064-c35e-4bcd-bb53-0d75fc153ad1",
   "metadata": {},
   "outputs": [],
   "source": [
    "sme = SME()"
   ]
  },
  {
   "cell_type": "code",
   "execution_count": 3,
   "id": "6938bdc6-3244-47a0-aca3-bc54bffdffa1",
   "metadata": {},
   "outputs": [
    {
     "data": {
      "text/plain": [
       "Index(['RecordId', 'Gender', 'Distance', 'YearsWorked', 'TrainingHours',\n",
       "       'WorkLifeBalance', 'NumOfProjects', 'JobInvolvement', 'TeamSize',\n",
       "       'MentorshipReceived', 'TechSkillLevel', 'AttendanceRate', 'StressLevel',\n",
       "       'PeerFeedbackScore', 'AnnualLeaveDays', 'Certifications',\n",
       "       'SkillDevelopmentCourses', 'ProjectComplexity', 'WorkSatisfactionScore',\n",
       "       'JobEngagementScore', 'PhysicalActivityScore', 'MentalWellbeingScore',\n",
       "       'DepartmentCode', 'PreviousSalary', 'Salary', 'SelfReview',\n",
       "       'SupervisorReview', 'Left'],\n",
       "      dtype='object')"
      ]
     },
     "execution_count": 3,
     "metadata": {},
     "output_type": "execute_result"
    }
   ],
   "source": [
    "sme.df.columns"
   ]
  },
  {
   "cell_type": "code",
   "execution_count": 4,
   "id": "962d6fb0-73a0-4bbc-a128-4d33eb6210b2",
   "metadata": {},
   "outputs": [],
   "source": [
    "X_train = pd.read_csv('https://raw.githubusercontent.com/msaricaumbc/DS_data/master/ds602/final/employee_departure_dataset_X.csv')"
   ]
  },
  {
   "cell_type": "code",
   "execution_count": 5,
   "id": "df0c061d-ef6e-4a5e-9616-28995c3141e6",
   "metadata": {},
   "outputs": [
    {
     "data": {
      "text/plain": [
       "\"\\nnum = ['HighStress', 'LongDist','Gender','RecordId', 'YearsWorked', 'TrainingHours', \\n       'WorkLifeBalance', 'NumOfProjects', 'JobInvolvement', 'TeamSize',\\n       'MentorshipReceived', 'TechSkillLevel', 'AttendanceRate', 'StressLevel',\\n       'PeerFeedbackScore', 'AnnualLeaveDays', 'Certifications',\\n       'SkillDevelopmentCourses', 'ProjectComplexity', 'WorkSatisfactionScore',\\n       'JobEngagementScore', 'PhysicalActivityScore', 'MentalWellbeingScore',\\n       'PreviousSalary', 'Salary', 'SelfReview',\\n       'SupervisorReview', 'Raise', 'ReviewDiff', 'ReviewOverRaise']\\n\""
      ]
     },
     "execution_count": 5,
     "metadata": {},
     "output_type": "execute_result"
    }
   ],
   "source": [
    "sme.df['SelfReview'] = sme.df['SelfReview'].fillna(sme.df['SelfReview'].median())\n",
    "sme.df['SupervisorReview'] = sme.df['SupervisorReview'].fillna(sme.df['SupervisorReview'].median())\n",
    "sme.df[['Salary', 'PreviousSalary']] = sme.df[['Salary', 'PreviousSalary']].map(lambda x: x.replace('K', '000') if isinstance(x, str) else x)\n",
    "sme.df[['Salary', 'PreviousSalary']] = sme.df[['Salary', 'PreviousSalary']].astype(int)\n",
    "\n",
    "sme.df['Raise'] = (sme.df['Salary'] / sme.df['PreviousSalary']) - 1\n",
    "sme.df['ReviewDiff'] = sme.df['SelfReview'] - sme.df['SupervisorReview']\n",
    "sme.df['ReviewOverRaise'] = sme.df['SelfReview'] / (sme.df['Raise'] +.0001)\n",
    "\n",
    "sme.df['LongDist'] = np.where(sme.df['Distance'].isin(['~20miles', '>30miles']), 1, 0)\n",
    "\n",
    "sme.df['HighStress'] = np.where(sme.df['StressLevel'] > 3.5, 1, 0)\n",
    "\n",
    "num = ['HighStress', 'LongDist','Gender', 'SupervisorReview','SelfReview', 'Raise', 'Salary','ReviewOverRaise'] #'ReviewOverRaise','ReviewDiff', 'StressLevel'\n",
    "cat = ['DepartmentCode']#'Distance',\n",
    "#num = ['Raise', 'StressLevel']\n",
    "\n",
    "\"\"\"\n",
    "num = ['HighStress', 'LongDist','Gender','RecordId', 'YearsWorked', 'TrainingHours', \n",
    "       'WorkLifeBalance', 'NumOfProjects', 'JobInvolvement', 'TeamSize',\n",
    "       'MentorshipReceived', 'TechSkillLevel', 'AttendanceRate', 'StressLevel',\n",
    "       'PeerFeedbackScore', 'AnnualLeaveDays', 'Certifications',\n",
    "       'SkillDevelopmentCourses', 'ProjectComplexity', 'WorkSatisfactionScore',\n",
    "       'JobEngagementScore', 'PhysicalActivityScore', 'MentalWellbeingScore',\n",
    "       'PreviousSalary', 'Salary', 'SelfReview',\n",
    "       'SupervisorReview', 'Raise', 'ReviewDiff', 'ReviewOverRaise']\n",
    "\"\"\""
   ]
  },
  {
   "cell_type": "markdown",
   "id": "d0b31aef-b1db-484b-8c48-4f72194f5641",
   "metadata": {},
   "source": [
    "# Establish the preprocessing for numeric and categorical features."
   ]
  },
  {
   "cell_type": "code",
   "execution_count": 7,
   "id": "bcbd0787-d617-4921-9630-d70f3e380fce",
   "metadata": {},
   "outputs": [],
   "source": [
    "from sklearn.pipeline import Pipeline\n",
    "from sklearn.compose import ColumnTransformer\n",
    "from sklearn.decomposition import PCA\n",
    "from sklearn.preprocessing import StandardScaler, OneHotEncoder\n",
    "from sklearn.cluster import KMeans\n",
    "\n",
    "n_clusters = 500\n",
    "\n",
    "featureprocessor = ColumnTransformer(\n",
    "    transformers=[\n",
    "        ('num', StandardScaler(), num)#,\n",
    "        #('cat', OneHotEncoder(), cat)\n",
    "    ])\n",
    "preprocessor = Pipeline(steps=[\n",
    "    ('features', featureprocessor),\n",
    "    ('pca', PCA(n_components=0.9)),\n",
    "    ('kmeans', KMeans(n_clusters=n_clusters, random_state=42, n_init='auto'))\n",
    "])\n",
    "#('kmeans', KMeans(n_clusters=n_clusters, n_init='auto'), num)#+cat)\n",
    "#('kmeans', KMeans(n_clusters=n_clusters, n_init='auto')"
   ]
  },
  {
   "cell_type": "code",
   "execution_count": 8,
   "id": "c627e000-46a6-448b-abe7-22145c9e7d70",
   "metadata": {},
   "outputs": [],
   "source": [
    "X_dist = preprocessor.fit_transform(sme.df[num+cat])"
   ]
  },
  {
   "cell_type": "code",
   "execution_count": 9,
   "id": "002913b0-d755-46aa-8045-76ffb9acd608",
   "metadata": {},
   "outputs": [
    {
     "data": {
      "text/html": [
       "<style>#sk-container-id-1 {color: black;}#sk-container-id-1 pre{padding: 0;}#sk-container-id-1 div.sk-toggleable {background-color: white;}#sk-container-id-1 label.sk-toggleable__label {cursor: pointer;display: block;width: 100%;margin-bottom: 0;padding: 0.3em;box-sizing: border-box;text-align: center;}#sk-container-id-1 label.sk-toggleable__label-arrow:before {content: \"▸\";float: left;margin-right: 0.25em;color: #696969;}#sk-container-id-1 label.sk-toggleable__label-arrow:hover:before {color: black;}#sk-container-id-1 div.sk-estimator:hover label.sk-toggleable__label-arrow:before {color: black;}#sk-container-id-1 div.sk-toggleable__content {max-height: 0;max-width: 0;overflow: hidden;text-align: left;background-color: #f0f8ff;}#sk-container-id-1 div.sk-toggleable__content pre {margin: 0.2em;color: black;border-radius: 0.25em;background-color: #f0f8ff;}#sk-container-id-1 input.sk-toggleable__control:checked~div.sk-toggleable__content {max-height: 200px;max-width: 100%;overflow: auto;}#sk-container-id-1 input.sk-toggleable__control:checked~label.sk-toggleable__label-arrow:before {content: \"▾\";}#sk-container-id-1 div.sk-estimator input.sk-toggleable__control:checked~label.sk-toggleable__label {background-color: #d4ebff;}#sk-container-id-1 div.sk-label input.sk-toggleable__control:checked~label.sk-toggleable__label {background-color: #d4ebff;}#sk-container-id-1 input.sk-hidden--visually {border: 0;clip: rect(1px 1px 1px 1px);clip: rect(1px, 1px, 1px, 1px);height: 1px;margin: -1px;overflow: hidden;padding: 0;position: absolute;width: 1px;}#sk-container-id-1 div.sk-estimator {font-family: monospace;background-color: #f0f8ff;border: 1px dotted black;border-radius: 0.25em;box-sizing: border-box;margin-bottom: 0.5em;}#sk-container-id-1 div.sk-estimator:hover {background-color: #d4ebff;}#sk-container-id-1 div.sk-parallel-item::after {content: \"\";width: 100%;border-bottom: 1px solid gray;flex-grow: 1;}#sk-container-id-1 div.sk-label:hover label.sk-toggleable__label {background-color: #d4ebff;}#sk-container-id-1 div.sk-serial::before {content: \"\";position: absolute;border-left: 1px solid gray;box-sizing: border-box;top: 0;bottom: 0;left: 50%;z-index: 0;}#sk-container-id-1 div.sk-serial {display: flex;flex-direction: column;align-items: center;background-color: white;padding-right: 0.2em;padding-left: 0.2em;position: relative;}#sk-container-id-1 div.sk-item {position: relative;z-index: 1;}#sk-container-id-1 div.sk-parallel {display: flex;align-items: stretch;justify-content: center;background-color: white;position: relative;}#sk-container-id-1 div.sk-item::before, #sk-container-id-1 div.sk-parallel-item::before {content: \"\";position: absolute;border-left: 1px solid gray;box-sizing: border-box;top: 0;bottom: 0;left: 50%;z-index: -1;}#sk-container-id-1 div.sk-parallel-item {display: flex;flex-direction: column;z-index: 1;position: relative;background-color: white;}#sk-container-id-1 div.sk-parallel-item:first-child::after {align-self: flex-end;width: 50%;}#sk-container-id-1 div.sk-parallel-item:last-child::after {align-self: flex-start;width: 50%;}#sk-container-id-1 div.sk-parallel-item:only-child::after {width: 0;}#sk-container-id-1 div.sk-dashed-wrapped {border: 1px dashed gray;margin: 0 0.4em 0.5em 0.4em;box-sizing: border-box;padding-bottom: 0.4em;background-color: white;}#sk-container-id-1 div.sk-label label {font-family: monospace;font-weight: bold;display: inline-block;line-height: 1.2em;}#sk-container-id-1 div.sk-label-container {text-align: center;}#sk-container-id-1 div.sk-container {/* jupyter's `normalize.less` sets `[hidden] { display: none; }` but bootstrap.min.css set `[hidden] { display: none !important; }` so we also need the `!important` here to be able to override the default hidden behavior on the sphinx rendered scikit-learn.org. See: https://github.com/scikit-learn/scikit-learn/issues/21755 */display: inline-block !important;position: relative;}#sk-container-id-1 div.sk-text-repr-fallback {display: none;}</style><div id=\"sk-container-id-1\" class=\"sk-top-container\"><div class=\"sk-text-repr-fallback\"><pre>Pipeline(steps=[(&#x27;features&#x27;,\n",
       "                 ColumnTransformer(transformers=[(&#x27;num&#x27;, StandardScaler(),\n",
       "                                                  [&#x27;HighStress&#x27;, &#x27;LongDist&#x27;,\n",
       "                                                   &#x27;Gender&#x27;, &#x27;SupervisorReview&#x27;,\n",
       "                                                   &#x27;SelfReview&#x27;, &#x27;Raise&#x27;,\n",
       "                                                   &#x27;Salary&#x27;,\n",
       "                                                   &#x27;ReviewOverRaise&#x27;])])),\n",
       "                (&#x27;pca&#x27;, PCA(n_components=0.9)),\n",
       "                (&#x27;kmeans&#x27;,\n",
       "                 KMeans(n_clusters=500, n_init=&#x27;auto&#x27;, random_state=42))])</pre><b>In a Jupyter environment, please rerun this cell to show the HTML representation or trust the notebook. <br />On GitHub, the HTML representation is unable to render, please try loading this page with nbviewer.org.</b></div><div class=\"sk-container\" hidden><div class=\"sk-item sk-dashed-wrapped\"><div class=\"sk-label-container\"><div class=\"sk-label sk-toggleable\"><input class=\"sk-toggleable__control sk-hidden--visually\" id=\"sk-estimator-id-1\" type=\"checkbox\" ><label for=\"sk-estimator-id-1\" class=\"sk-toggleable__label sk-toggleable__label-arrow\">Pipeline</label><div class=\"sk-toggleable__content\"><pre>Pipeline(steps=[(&#x27;features&#x27;,\n",
       "                 ColumnTransformer(transformers=[(&#x27;num&#x27;, StandardScaler(),\n",
       "                                                  [&#x27;HighStress&#x27;, &#x27;LongDist&#x27;,\n",
       "                                                   &#x27;Gender&#x27;, &#x27;SupervisorReview&#x27;,\n",
       "                                                   &#x27;SelfReview&#x27;, &#x27;Raise&#x27;,\n",
       "                                                   &#x27;Salary&#x27;,\n",
       "                                                   &#x27;ReviewOverRaise&#x27;])])),\n",
       "                (&#x27;pca&#x27;, PCA(n_components=0.9)),\n",
       "                (&#x27;kmeans&#x27;,\n",
       "                 KMeans(n_clusters=500, n_init=&#x27;auto&#x27;, random_state=42))])</pre></div></div></div><div class=\"sk-serial\"><div class=\"sk-item sk-dashed-wrapped\"><div class=\"sk-label-container\"><div class=\"sk-label sk-toggleable\"><input class=\"sk-toggleable__control sk-hidden--visually\" id=\"sk-estimator-id-2\" type=\"checkbox\" ><label for=\"sk-estimator-id-2\" class=\"sk-toggleable__label sk-toggleable__label-arrow\">features: ColumnTransformer</label><div class=\"sk-toggleable__content\"><pre>ColumnTransformer(transformers=[(&#x27;num&#x27;, StandardScaler(),\n",
       "                                 [&#x27;HighStress&#x27;, &#x27;LongDist&#x27;, &#x27;Gender&#x27;,\n",
       "                                  &#x27;SupervisorReview&#x27;, &#x27;SelfReview&#x27;, &#x27;Raise&#x27;,\n",
       "                                  &#x27;Salary&#x27;, &#x27;ReviewOverRaise&#x27;])])</pre></div></div></div><div class=\"sk-parallel\"><div class=\"sk-parallel-item\"><div class=\"sk-item\"><div class=\"sk-label-container\"><div class=\"sk-label sk-toggleable\"><input class=\"sk-toggleable__control sk-hidden--visually\" id=\"sk-estimator-id-3\" type=\"checkbox\" ><label for=\"sk-estimator-id-3\" class=\"sk-toggleable__label sk-toggleable__label-arrow\">num</label><div class=\"sk-toggleable__content\"><pre>[&#x27;HighStress&#x27;, &#x27;LongDist&#x27;, &#x27;Gender&#x27;, &#x27;SupervisorReview&#x27;, &#x27;SelfReview&#x27;, &#x27;Raise&#x27;, &#x27;Salary&#x27;, &#x27;ReviewOverRaise&#x27;]</pre></div></div></div><div class=\"sk-serial\"><div class=\"sk-item\"><div class=\"sk-estimator sk-toggleable\"><input class=\"sk-toggleable__control sk-hidden--visually\" id=\"sk-estimator-id-4\" type=\"checkbox\" ><label for=\"sk-estimator-id-4\" class=\"sk-toggleable__label sk-toggleable__label-arrow\">StandardScaler</label><div class=\"sk-toggleable__content\"><pre>StandardScaler()</pre></div></div></div></div></div></div></div></div><div class=\"sk-item\"><div class=\"sk-estimator sk-toggleable\"><input class=\"sk-toggleable__control sk-hidden--visually\" id=\"sk-estimator-id-5\" type=\"checkbox\" ><label for=\"sk-estimator-id-5\" class=\"sk-toggleable__label sk-toggleable__label-arrow\">PCA</label><div class=\"sk-toggleable__content\"><pre>PCA(n_components=0.9)</pre></div></div></div><div class=\"sk-item\"><div class=\"sk-estimator sk-toggleable\"><input class=\"sk-toggleable__control sk-hidden--visually\" id=\"sk-estimator-id-6\" type=\"checkbox\" ><label for=\"sk-estimator-id-6\" class=\"sk-toggleable__label sk-toggleable__label-arrow\">KMeans</label><div class=\"sk-toggleable__content\"><pre>KMeans(n_clusters=500, n_init=&#x27;auto&#x27;, random_state=42)</pre></div></div></div></div></div></div></div>"
      ],
      "text/plain": [
       "Pipeline(steps=[('features',\n",
       "                 ColumnTransformer(transformers=[('num', StandardScaler(),\n",
       "                                                  ['HighStress', 'LongDist',\n",
       "                                                   'Gender', 'SupervisorReview',\n",
       "                                                   'SelfReview', 'Raise',\n",
       "                                                   'Salary',\n",
       "                                                   'ReviewOverRaise'])])),\n",
       "                ('pca', PCA(n_components=0.9)),\n",
       "                ('kmeans',\n",
       "                 KMeans(n_clusters=500, n_init='auto', random_state=42))])"
      ]
     },
     "execution_count": 9,
     "metadata": {},
     "output_type": "execute_result"
    }
   ],
   "source": [
    "preprocessor"
   ]
  },
  {
   "cell_type": "code",
   "execution_count": 10,
   "id": "e64900ad-4045-410c-be0e-c45b30939c7a",
   "metadata": {},
   "outputs": [],
   "source": [
    "kmeans = KMeans(n_clusters = n_clusters, n_init='auto')\n",
    "pre = featureprocessor.fit_transform(sme.df[num+cat])"
   ]
  },
  {
   "cell_type": "code",
   "execution_count": 11,
   "id": "e63618e7-9d9d-41cf-9ddd-2f7dc6318011",
   "metadata": {},
   "outputs": [
    {
     "data": {
      "text/plain": [
       "array([[4.00171923, 3.3079579 , 3.72659918, ..., 2.56150844, 6.85420143,\n",
       "        4.03004859],\n",
       "       [2.78972543, 3.5378403 , 3.5091031 , ..., 3.45057363, 6.91032054,\n",
       "        3.94326496],\n",
       "       [2.6969939 , 5.39149026, 3.70605857, ..., 2.42249429, 5.98651671,\n",
       "        4.40220978],\n",
       "       ...,\n",
       "       [3.92809928, 4.4136642 , 4.60394597, ..., 4.03977881, 6.99196109,\n",
       "        3.81065053],\n",
       "       [3.9916972 , 3.81180185, 2.76990713, ..., 3.97026524, 6.9060077 ,\n",
       "        4.18793842],\n",
       "       [4.10959185, 3.80422101, 3.60736346, ..., 2.57925644, 7.12992874,\n",
       "        3.04853284]])"
      ]
     },
     "execution_count": 11,
     "metadata": {},
     "output_type": "execute_result"
    }
   ],
   "source": [
    "X_dist = kmeans.fit_transform(pre)\n",
    "X_dist"
   ]
  },
  {
   "cell_type": "code",
   "execution_count": 12,
   "id": "4f0a4c58-93ea-4d34-b1a0-ead06b8e1e1e",
   "metadata": {},
   "outputs": [
    {
     "data": {
      "text/plain": [
       "(500000, 500)"
      ]
     },
     "execution_count": 12,
     "metadata": {},
     "output_type": "execute_result"
    }
   ],
   "source": [
    "X_dist.shape"
   ]
  },
  {
   "cell_type": "code",
   "execution_count": 13,
   "id": "8ffd6b51-2377-453c-9a7f-ad1dd4fd9b7a",
   "metadata": {},
   "outputs": [
    {
     "data": {
      "text/plain": [
       "26     3969\n",
       "202    3464\n",
       "10     3416\n",
       "43     3195\n",
       "311    2971\n",
       "       ... \n",
       "191     222\n",
       "441     213\n",
       "377     207\n",
       "392     186\n",
       "264     176\n",
       "Name: count, Length: 500, dtype: int64"
      ]
     },
     "execution_count": 13,
     "metadata": {},
     "output_type": "execute_result"
    }
   ],
   "source": [
    "pd.Series(kmeans.labels_).value_counts()"
   ]
  },
  {
   "cell_type": "code",
   "execution_count": 14,
   "id": "f3511df1-0d80-4486-8c66-7f447ee4086d",
   "metadata": {},
   "outputs": [
    {
     "data": {
      "text/plain": [
       "(500,)"
      ]
     },
     "execution_count": 14,
     "metadata": {},
     "output_type": "execute_result"
    }
   ],
   "source": [
    "import numpy as np\n",
    "representative_idx = np.argmin(X_dist, axis=0)\n",
    "representative_idx.shape"
   ]
  },
  {
   "cell_type": "code",
   "execution_count": 15,
   "id": "a61a01fa-3fb6-42c9-b2f0-39d8f871b58e",
   "metadata": {},
   "outputs": [
    {
     "data": {
      "text/plain": [
       "array([ 17740,     65,   2713,   5232, 211042,  75331,   6118,   3228,\n",
       "        12383,   1630,   1988,   6828,   1391,   6645,  47981,    529,\n",
       "        15080,   6332,  18487,   4851, 172524,   2269,   3994,   1844,\n",
       "         1783,   4704,   2123,   6407,   1376,  14323,   9481,   8027,\n",
       "         2913,   2282,   6497,   1520,    292,   5438,  21554,   1699,\n",
       "         2671,   1683,  24804,    377,   5705,   5524,  76311,    179,\n",
       "         6979,   4610,   2917,   6241,    651,  97612, 113909,  15088,\n",
       "        11716,   2789,   4650,   9935,    298,     27,   2399,    280,\n",
       "         4203,    414,   6498,   1655,   2317,  89428,   1701, 181275,\n",
       "         4424,  19382,   2780,  10237,  32627,   2003,    806,   6570,\n",
       "         7448,   2149,   3143,   6666,   6133,   4064,     41,    165,\n",
       "         4711,   3072,   4057,   8377,    725,  65948,   2273,   2519,\n",
       "          763,  13118,    512,  85291,   5021,  29620,   7263,   2237,\n",
       "           20,   8272,   7647,   2183,   9309,   2018,  12496,   2138,\n",
       "        13906,   7042,    264,  26745,   1541,  36955, 187554,  35848,\n",
       "         6174,  13543, 244288,   2829,   1866,   1255,   1877,  24969,\n",
       "        84673,   7422,    121,  28376,   1425,    928,    779,   2817,\n",
       "         1960,  33994,   8780,  17211,  51607,  73722,   3032,  17859,\n",
       "        19320, 368358,   8933,  22967,  14393,   7972, 118797,   1253,\n",
       "         2647,  30751,   9387,    620,  89171,   8336,   4198,   4848,\n",
       "        25693, 181141,  16185,   8269,   6076,  11283,  44755,  43915,\n",
       "         1963,   1894,   2886, 125900,    211,   3909,  15868,  21496,\n",
       "          462,   1190, 105198, 109864,   1495,   2834,  59193,   6306,\n",
       "         6347,   2088, 362930,  42597,  21324,   1281,   7204, 149119,\n",
       "        29077,   2541,    266,   3045,  18073,  29876,   3816,   1949,\n",
       "        10713,  43188,    947,   7559,   7864,   3804,    128,  53651,\n",
       "         1464,    591,   1275,    538,  18111,  11724,  39140,    910,\n",
       "          296,   3655, 169018,  18037,   1619,   8369,   2055,  10950,\n",
       "        22153,  63968,   4484,    997,      4,   6972,    741,   7118,\n",
       "        22265,  14861,  62328,   1682,    523,   6272,  80280,  53310,\n",
       "         9402,   9189,   3853,  14418,   9804,     79,   7683,   4558,\n",
       "       112285,   3105,  43529,  82380,   2535,  70723,   6937,   1102,\n",
       "         8740,    848,   1380,   1927,   1540,   8650,  35480,   1974,\n",
       "        57048,   2000,   8655,   3760,  10082,   9297, 111049,   1675,\n",
       "        78694,   2445,    601,   5571, 188004,    624,    811,  22030,\n",
       "         9050,  69577,  22972, 127694, 280756,   2260,   6780,   1975,\n",
       "        33005,  22013,   1068,     84,    635,   6642,   5950, 216218,\n",
       "         7287,   2840,    156,  20304,   9036,  63142,   2801,   9088,\n",
       "          680,  45016,    452,   8789,    255,  29708,  10959,    303,\n",
       "         3083,  97757,   3889,   1590,   3504,  18169,  52963,  13167,\n",
       "        70998,   1037,  85259,  23245,   2643, 455490, 235606,  95538,\n",
       "        27233,  41363,   4446,    747,   1858,    393,   2876,    384,\n",
       "         4933,   4938,  63845, 299610,   1450, 117259,  25095,   1110,\n",
       "         2063, 212600,  40193,   2807,   5597,   8850,   8799, 115380,\n",
       "         3388,   4278,   5381,  21862,   5823,   1199,   4923,  47575,\n",
       "         2359,  46172,    483,  21699,   5230,  10677,    989,   4676,\n",
       "       108657,      0,  20190,  10590,    371,   4368,   1592,  21196,\n",
       "       149550, 105842,  25461,  20384, 143473,  21844,  84343,   1283,\n",
       "        10265,  19640,   4584,  78978,  76630,    278,  17880,    783,\n",
       "       445187,  11043,  20820,   2688,  89559,  25211,  12774,    726,\n",
       "         2070, 123648,  15083,   5049,   5599,  10870,  85947,  10362,\n",
       "         7728,    477,  15351, 142072,  10772,  28879,  97568,   6696,\n",
       "        10129,  17419,  59353,   4449,  10717,  16471,  94657,   1994,\n",
       "         4426,  18526,   8162,  12912,   9229,  26461,  40284,  84570,\n",
       "         5419,    901,   2212,   3875,   2828,  10323,  21656,   8180,\n",
       "         7051, 244208,  15883,     13,   6831,  17668,  52260,    242,\n",
       "        32548,   2637,  29054,  13455,   8637,   8316,  19570,   3395,\n",
       "        15989,    382,    773,  44281,  21081,   5884,  13617,  69916,\n",
       "        34184,   6395,   7764,   8403,  15071,   5940,  35224,   6026,\n",
       "         3950,   1228,  13604,    789, 138168,  86210,  18460,  46521,\n",
       "        30809,  14088,   1059, 180232,  11058,  46435,  27973,    273,\n",
       "         6070,  39897,    557,   1831,   4074,  16463,    653, 265698,\n",
       "        28388,  46671,   7011,  17453], dtype=int64)"
      ]
     },
     "execution_count": 15,
     "metadata": {},
     "output_type": "execute_result"
    }
   ],
   "source": [
    "representative_idx"
   ]
  },
  {
   "cell_type": "code",
   "execution_count": 16,
   "id": "caa2bb11-1293-4b8d-be5c-b0740904e1f4",
   "metadata": {},
   "outputs": [
    {
     "data": {
      "text/html": [
       "<div>\n",
       "<style scoped>\n",
       "    .dataframe tbody tr th:only-of-type {\n",
       "        vertical-align: middle;\n",
       "    }\n",
       "\n",
       "    .dataframe tbody tr th {\n",
       "        vertical-align: top;\n",
       "    }\n",
       "\n",
       "    .dataframe thead th {\n",
       "        text-align: right;\n",
       "    }\n",
       "</style>\n",
       "<table border=\"1\" class=\"dataframe\">\n",
       "  <thead>\n",
       "    <tr style=\"text-align: right;\">\n",
       "      <th></th>\n",
       "      <th>RecordId</th>\n",
       "      <th>Gender</th>\n",
       "      <th>Distance</th>\n",
       "      <th>YearsWorked</th>\n",
       "      <th>TrainingHours</th>\n",
       "      <th>WorkLifeBalance</th>\n",
       "      <th>NumOfProjects</th>\n",
       "      <th>JobInvolvement</th>\n",
       "      <th>TeamSize</th>\n",
       "      <th>MentorshipReceived</th>\n",
       "      <th>...</th>\n",
       "      <th>PreviousSalary</th>\n",
       "      <th>Salary</th>\n",
       "      <th>SelfReview</th>\n",
       "      <th>SupervisorReview</th>\n",
       "      <th>Left</th>\n",
       "      <th>Raise</th>\n",
       "      <th>ReviewDiff</th>\n",
       "      <th>ReviewOverRaise</th>\n",
       "      <th>LongDist</th>\n",
       "      <th>HighStress</th>\n",
       "    </tr>\n",
       "  </thead>\n",
       "  <tbody>\n",
       "    <tr>\n",
       "      <th>17740</th>\n",
       "      <td>17840</td>\n",
       "      <td>0</td>\n",
       "      <td>~15miles</td>\n",
       "      <td>3</td>\n",
       "      <td>62</td>\n",
       "      <td>1</td>\n",
       "      <td>16</td>\n",
       "      <td>5</td>\n",
       "      <td>8</td>\n",
       "      <td>1</td>\n",
       "      <td>...</td>\n",
       "      <td>58000</td>\n",
       "      <td>60000</td>\n",
       "      <td>3.0</td>\n",
       "      <td>3.0</td>\n",
       "      <td>1</td>\n",
       "      <td>0.034483</td>\n",
       "      <td>0.0</td>\n",
       "      <td>86.748430</td>\n",
       "      <td>0</td>\n",
       "      <td>0</td>\n",
       "    </tr>\n",
       "    <tr>\n",
       "      <th>65</th>\n",
       "      <td>165</td>\n",
       "      <td>1</td>\n",
       "      <td>~20miles</td>\n",
       "      <td>7</td>\n",
       "      <td>48</td>\n",
       "      <td>4</td>\n",
       "      <td>17</td>\n",
       "      <td>4</td>\n",
       "      <td>14</td>\n",
       "      <td>0</td>\n",
       "      <td>...</td>\n",
       "      <td>57000</td>\n",
       "      <td>59000</td>\n",
       "      <td>5.0</td>\n",
       "      <td>5.0</td>\n",
       "      <td>0</td>\n",
       "      <td>0.035088</td>\n",
       "      <td>0.0</td>\n",
       "      <td>142.095029</td>\n",
       "      <td>1</td>\n",
       "      <td>1</td>\n",
       "    </tr>\n",
       "    <tr>\n",
       "      <th>2713</th>\n",
       "      <td>2813</td>\n",
       "      <td>0</td>\n",
       "      <td>~15miles</td>\n",
       "      <td>5</td>\n",
       "      <td>92</td>\n",
       "      <td>4</td>\n",
       "      <td>2</td>\n",
       "      <td>4</td>\n",
       "      <td>15</td>\n",
       "      <td>0</td>\n",
       "      <td>...</td>\n",
       "      <td>87000</td>\n",
       "      <td>89000</td>\n",
       "      <td>5.0</td>\n",
       "      <td>5.0</td>\n",
       "      <td>0</td>\n",
       "      <td>0.022989</td>\n",
       "      <td>0.0</td>\n",
       "      <td>216.557973</td>\n",
       "      <td>0</td>\n",
       "      <td>0</td>\n",
       "    </tr>\n",
       "    <tr>\n",
       "      <th>5232</th>\n",
       "      <td>5332</td>\n",
       "      <td>0</td>\n",
       "      <td>~15miles</td>\n",
       "      <td>5</td>\n",
       "      <td>50</td>\n",
       "      <td>4</td>\n",
       "      <td>2</td>\n",
       "      <td>2</td>\n",
       "      <td>15</td>\n",
       "      <td>1</td>\n",
       "      <td>...</td>\n",
       "      <td>67000</td>\n",
       "      <td>70000</td>\n",
       "      <td>4.0</td>\n",
       "      <td>4.0</td>\n",
       "      <td>0</td>\n",
       "      <td>0.044776</td>\n",
       "      <td>0.0</td>\n",
       "      <td>89.134267</td>\n",
       "      <td>0</td>\n",
       "      <td>0</td>\n",
       "    </tr>\n",
       "    <tr>\n",
       "      <th>211042</th>\n",
       "      <td>211142</td>\n",
       "      <td>0</td>\n",
       "      <td>~20miles</td>\n",
       "      <td>6</td>\n",
       "      <td>78</td>\n",
       "      <td>4</td>\n",
       "      <td>2</td>\n",
       "      <td>2</td>\n",
       "      <td>13</td>\n",
       "      <td>0</td>\n",
       "      <td>...</td>\n",
       "      <td>55000</td>\n",
       "      <td>55000</td>\n",
       "      <td>5.0</td>\n",
       "      <td>4.0</td>\n",
       "      <td>1</td>\n",
       "      <td>0.000000</td>\n",
       "      <td>1.0</td>\n",
       "      <td>50000.000000</td>\n",
       "      <td>1</td>\n",
       "      <td>1</td>\n",
       "    </tr>\n",
       "    <tr>\n",
       "      <th>...</th>\n",
       "      <td>...</td>\n",
       "      <td>...</td>\n",
       "      <td>...</td>\n",
       "      <td>...</td>\n",
       "      <td>...</td>\n",
       "      <td>...</td>\n",
       "      <td>...</td>\n",
       "      <td>...</td>\n",
       "      <td>...</td>\n",
       "      <td>...</td>\n",
       "      <td>...</td>\n",
       "      <td>...</td>\n",
       "      <td>...</td>\n",
       "      <td>...</td>\n",
       "      <td>...</td>\n",
       "      <td>...</td>\n",
       "      <td>...</td>\n",
       "      <td>...</td>\n",
       "      <td>...</td>\n",
       "      <td>...</td>\n",
       "      <td>...</td>\n",
       "    </tr>\n",
       "    <tr>\n",
       "      <th>265698</th>\n",
       "      <td>265798</td>\n",
       "      <td>1</td>\n",
       "      <td>~20miles</td>\n",
       "      <td>7</td>\n",
       "      <td>74</td>\n",
       "      <td>2</td>\n",
       "      <td>11</td>\n",
       "      <td>2</td>\n",
       "      <td>18</td>\n",
       "      <td>1</td>\n",
       "      <td>...</td>\n",
       "      <td>83000</td>\n",
       "      <td>86000</td>\n",
       "      <td>4.0</td>\n",
       "      <td>2.0</td>\n",
       "      <td>0</td>\n",
       "      <td>0.036145</td>\n",
       "      <td>2.0</td>\n",
       "      <td>110.361334</td>\n",
       "      <td>1</td>\n",
       "      <td>1</td>\n",
       "    </tr>\n",
       "    <tr>\n",
       "      <th>28388</th>\n",
       "      <td>28488</td>\n",
       "      <td>0</td>\n",
       "      <td>&gt;30miles</td>\n",
       "      <td>9</td>\n",
       "      <td>21</td>\n",
       "      <td>4</td>\n",
       "      <td>10</td>\n",
       "      <td>2</td>\n",
       "      <td>13</td>\n",
       "      <td>1</td>\n",
       "      <td>...</td>\n",
       "      <td>81000</td>\n",
       "      <td>83000</td>\n",
       "      <td>5.0</td>\n",
       "      <td>2.0</td>\n",
       "      <td>1</td>\n",
       "      <td>0.024691</td>\n",
       "      <td>3.0</td>\n",
       "      <td>201.683183</td>\n",
       "      <td>1</td>\n",
       "      <td>0</td>\n",
       "    </tr>\n",
       "    <tr>\n",
       "      <th>46671</th>\n",
       "      <td>46771</td>\n",
       "      <td>1</td>\n",
       "      <td>~15miles</td>\n",
       "      <td>10</td>\n",
       "      <td>79</td>\n",
       "      <td>3</td>\n",
       "      <td>6</td>\n",
       "      <td>4</td>\n",
       "      <td>6</td>\n",
       "      <td>0</td>\n",
       "      <td>...</td>\n",
       "      <td>80000</td>\n",
       "      <td>82000</td>\n",
       "      <td>4.0</td>\n",
       "      <td>3.0</td>\n",
       "      <td>0</td>\n",
       "      <td>0.025000</td>\n",
       "      <td>1.0</td>\n",
       "      <td>159.362550</td>\n",
       "      <td>0</td>\n",
       "      <td>0</td>\n",
       "    </tr>\n",
       "    <tr>\n",
       "      <th>7011</th>\n",
       "      <td>7111</td>\n",
       "      <td>0</td>\n",
       "      <td>~15miles</td>\n",
       "      <td>7</td>\n",
       "      <td>21</td>\n",
       "      <td>4</td>\n",
       "      <td>14</td>\n",
       "      <td>3</td>\n",
       "      <td>14</td>\n",
       "      <td>1</td>\n",
       "      <td>...</td>\n",
       "      <td>81000</td>\n",
       "      <td>81000</td>\n",
       "      <td>5.0</td>\n",
       "      <td>2.0</td>\n",
       "      <td>1</td>\n",
       "      <td>0.000000</td>\n",
       "      <td>3.0</td>\n",
       "      <td>50000.000000</td>\n",
       "      <td>0</td>\n",
       "      <td>0</td>\n",
       "    </tr>\n",
       "    <tr>\n",
       "      <th>17453</th>\n",
       "      <td>17553</td>\n",
       "      <td>1</td>\n",
       "      <td>~10miles</td>\n",
       "      <td>7</td>\n",
       "      <td>96</td>\n",
       "      <td>5</td>\n",
       "      <td>18</td>\n",
       "      <td>1</td>\n",
       "      <td>12</td>\n",
       "      <td>1</td>\n",
       "      <td>...</td>\n",
       "      <td>76000</td>\n",
       "      <td>80000</td>\n",
       "      <td>5.0</td>\n",
       "      <td>4.0</td>\n",
       "      <td>0</td>\n",
       "      <td>0.052632</td>\n",
       "      <td>1.0</td>\n",
       "      <td>94.819842</td>\n",
       "      <td>0</td>\n",
       "      <td>0</td>\n",
       "    </tr>\n",
       "  </tbody>\n",
       "</table>\n",
       "<p>500 rows × 33 columns</p>\n",
       "</div>"
      ],
      "text/plain": [
       "        RecordId  Gender  Distance  YearsWorked  TrainingHours  \\\n",
       "17740      17840       0  ~15miles            3             62   \n",
       "65           165       1  ~20miles            7             48   \n",
       "2713        2813       0  ~15miles            5             92   \n",
       "5232        5332       0  ~15miles            5             50   \n",
       "211042    211142       0  ~20miles            6             78   \n",
       "...          ...     ...       ...          ...            ...   \n",
       "265698    265798       1  ~20miles            7             74   \n",
       "28388      28488       0  >30miles            9             21   \n",
       "46671      46771       1  ~15miles           10             79   \n",
       "7011        7111       0  ~15miles            7             21   \n",
       "17453      17553       1  ~10miles            7             96   \n",
       "\n",
       "        WorkLifeBalance  NumOfProjects  JobInvolvement  TeamSize  \\\n",
       "17740                 1             16               5         8   \n",
       "65                    4             17               4        14   \n",
       "2713                  4              2               4        15   \n",
       "5232                  4              2               2        15   \n",
       "211042                4              2               2        13   \n",
       "...                 ...            ...             ...       ...   \n",
       "265698                2             11               2        18   \n",
       "28388                 4             10               2        13   \n",
       "46671                 3              6               4         6   \n",
       "7011                  4             14               3        14   \n",
       "17453                 5             18               1        12   \n",
       "\n",
       "        MentorshipReceived  ...  PreviousSalary  Salary  SelfReview  \\\n",
       "17740                    1  ...           58000   60000         3.0   \n",
       "65                       0  ...           57000   59000         5.0   \n",
       "2713                     0  ...           87000   89000         5.0   \n",
       "5232                     1  ...           67000   70000         4.0   \n",
       "211042                   0  ...           55000   55000         5.0   \n",
       "...                    ...  ...             ...     ...         ...   \n",
       "265698                   1  ...           83000   86000         4.0   \n",
       "28388                    1  ...           81000   83000         5.0   \n",
       "46671                    0  ...           80000   82000         4.0   \n",
       "7011                     1  ...           81000   81000         5.0   \n",
       "17453                    1  ...           76000   80000         5.0   \n",
       "\n",
       "        SupervisorReview  Left     Raise  ReviewDiff  ReviewOverRaise  \\\n",
       "17740                3.0     1  0.034483         0.0        86.748430   \n",
       "65                   5.0     0  0.035088         0.0       142.095029   \n",
       "2713                 5.0     0  0.022989         0.0       216.557973   \n",
       "5232                 4.0     0  0.044776         0.0        89.134267   \n",
       "211042               4.0     1  0.000000         1.0     50000.000000   \n",
       "...                  ...   ...       ...         ...              ...   \n",
       "265698               2.0     0  0.036145         2.0       110.361334   \n",
       "28388                2.0     1  0.024691         3.0       201.683183   \n",
       "46671                3.0     0  0.025000         1.0       159.362550   \n",
       "7011                 2.0     1  0.000000         3.0     50000.000000   \n",
       "17453                4.0     0  0.052632         1.0        94.819842   \n",
       "\n",
       "        LongDist  HighStress  \n",
       "17740          0           0  \n",
       "65             1           1  \n",
       "2713           0           0  \n",
       "5232           0           0  \n",
       "211042         1           1  \n",
       "...          ...         ...  \n",
       "265698         1           1  \n",
       "28388          1           0  \n",
       "46671          0           0  \n",
       "7011           0           0  \n",
       "17453          0           0  \n",
       "\n",
       "[500 rows x 33 columns]"
      ]
     },
     "execution_count": 16,
     "metadata": {},
     "output_type": "execute_result"
    }
   ],
   "source": [
    "X_representative = sme.df.iloc[representative_idx]\n",
    "X_representative"
   ]
  },
  {
   "cell_type": "code",
   "execution_count": 17,
   "id": "77a0ed17-20d1-4807-8cd9-ce75c795bbf9",
   "metadata": {
    "scrolled": true
   },
   "outputs": [],
   "source": [
    "y_representative= []\n",
    "for i in representative_idx:\n",
    "    y_representative.append(sme.ask({'RecordId': i+100})) #All record Id's are 100 more than the index value"
   ]
  },
  {
   "cell_type": "code",
   "execution_count": 18,
   "id": "697c79fc-08aa-4ec5-9a00-c9af8c68e11c",
   "metadata": {},
   "outputs": [],
   "source": [
    "y_train_propagated = np.empty(len(sme.df), dtype=np.int32)\n",
    "for i in range(n_clusters):\n",
    "    y_train_propagated[kmeans.labels_ == i] = y_representative[i] #Issue is here"
   ]
  },
  {
   "cell_type": "code",
   "execution_count": 19,
   "id": "fe799c85-a489-4d34-b7ef-0227d4f39f19",
   "metadata": {},
   "outputs": [],
   "source": [
    "sme.df['Labels'] = kmeans.labels_\n",
    "sme.df['y_pred'] = y_train_propagated"
   ]
  },
  {
   "cell_type": "code",
   "execution_count": 20,
   "id": "e1ad5fcf-99b8-49f3-9d46-cef738a3cb41",
   "metadata": {},
   "outputs": [],
   "source": [
    "sme.df['ClusteringOff']= abs(sme.df['y_pred'] - sme.df['Left'])"
   ]
  },
  {
   "cell_type": "code",
   "execution_count": 78,
   "id": "85977658-298d-4d2c-aa8f-566a769c0d6b",
   "metadata": {},
   "outputs": [
    {
     "data": {
      "text/plain": [
       "84"
      ]
     },
     "execution_count": 78,
     "metadata": {},
     "output_type": "execute_result"
    }
   ],
   "source": [
    "#What Percent incorrect is each cluster?\n",
    "percent_df = sme.df.groupby('Labels')['ClusteringOff'].sum()/sme.df.groupby('Labels')['ClusteringOff'].count()\n",
    "percent_df[percent_df>.5].count()"
   ]
  },
  {
   "cell_type": "code",
   "execution_count": 22,
   "id": "6c38a676-ab6f-4139-83d3-0f21761b2fb7",
   "metadata": {},
   "outputs": [
    {
     "data": {
      "text/plain": [
       "0.246576"
      ]
     },
     "execution_count": 22,
     "metadata": {},
     "output_type": "execute_result"
    }
   ],
   "source": [
    "sme.df['ClusteringOff'].sum() / sme.df['ClusteringOff'].count()"
   ]
  },
  {
   "cell_type": "code",
   "execution_count": 52,
   "id": "75849f78-8c33-4085-b1cd-01c3cbdb646d",
   "metadata": {},
   "outputs": [
    {
     "data": {
      "text/plain": [
       "0.3344877840641468"
      ]
     },
     "execution_count": 52,
     "metadata": {},
     "output_type": "execute_result"
    }
   ],
   "source": [
    "#What percetange of \"Leaving\" predictions did our model get wrong?\n",
    "sme.df[sme.df['Left']==1]['ClusteringOff'].sum() / sme.df[sme.df['Left']==1]['ClusteringOff'].count()"
   ]
  },
  {
   "cell_type": "code",
   "execution_count": 54,
   "id": "1d7899df-dbad-4bdc-9266-6bb69381dbe1",
   "metadata": {},
   "outputs": [
    {
     "data": {
      "text/plain": [
       "0.1969274486056475"
      ]
     },
     "execution_count": 54,
     "metadata": {},
     "output_type": "execute_result"
    }
   ],
   "source": [
    "#What percetange of \"Staying\" predictions did our model get wrong?\n",
    "sme.df[sme.df['Left']==0]['ClusteringOff'].sum() / sme.df[sme.df['Left']==0]['ClusteringOff'].count()"
   ]
  },
  {
   "cell_type": "code",
   "execution_count": 70,
   "id": "5fa43e73-6f6c-4181-99dc-65e7bbdc665c",
   "metadata": {},
   "outputs": [
    {
     "data": {
      "text/plain": [
       "60362"
      ]
     },
     "execution_count": 70,
     "metadata": {},
     "output_type": "execute_result"
    }
   ],
   "source": [
    "sme.df[sme.df['Left']==1]['ClusteringOff'].sum()"
   ]
  },
  {
   "cell_type": "code",
   "execution_count": 68,
   "id": "ff214cca-7196-4442-ac87-924d34028dba",
   "metadata": {},
   "outputs": [
    {
     "data": {
      "text/plain": [
       "62926"
      ]
     },
     "execution_count": 68,
     "metadata": {},
     "output_type": "execute_result"
    }
   ],
   "source": [
    "sme.df[sme.df['Left']==0]['ClusteringOff'].sum()"
   ]
  },
  {
   "cell_type": "code",
   "execution_count": null,
   "id": "405a2fe1-a566-4ac5-9470-d0df1a2ea107",
   "metadata": {},
   "outputs": [],
   "source": []
  }
 ],
 "metadata": {
  "kernelspec": {
   "display_name": "Python 3 (ipykernel)",
   "language": "python",
   "name": "python3"
  },
  "language_info": {
   "codemirror_mode": {
    "name": "ipython",
    "version": 3
   },
   "file_extension": ".py",
   "mimetype": "text/x-python",
   "name": "python",
   "nbconvert_exporter": "python",
   "pygments_lexer": "ipython3",
   "version": "3.12.4"
  }
 },
 "nbformat": 4,
 "nbformat_minor": 5
}
