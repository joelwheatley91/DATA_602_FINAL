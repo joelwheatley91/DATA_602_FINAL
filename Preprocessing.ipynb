{
 "cells": [
  {
   "cell_type": "code",
   "execution_count": 1,
   "id": "0d16981e-c9b5-4a73-adbd-ba4bcd964c01",
   "metadata": {},
   "outputs": [],
   "source": [
    "import pandas as pd\n",
    "import numpy as np\n",
    "\n",
    "class SME():\n",
    "    \n",
    "    def __init__(self):\n",
    "        self.asked = 0\n",
    "        self.df = self.get()\n",
    "        \n",
    "    def get(self):\n",
    "        X_train = pd.read_csv('https://raw.githubusercontent.com/msaricaumbc/DS_data/master/ds602/final/employee_departure_dataset_X.csv')\n",
    "        y_train = pd.read_csv('https://raw.githubusercontent.com/msaricaumbc/DS_data/master/ds602/final/employee_departure_dataset_y.csv')\n",
    "\n",
    "        X_train['Left'] = y_train\n",
    "        return X_train\n",
    "    \n",
    "    def ask(self, valuedict):\n",
    "        self.asked += 1\n",
    "        #  print(self.asked)\n",
    "        \n",
    "        if self.asked > 500000:\n",
    "            raise Exception(\"Sorry, you have asked enough\")\n",
    "\n",
    "        arr = []\n",
    "        for prop in valuedict:\n",
    "            val = valuedict[prop]\n",
    "\n",
    "            if val is None: \n",
    "                continue\n",
    "\n",
    "            val = f\"'{val}'\" if isinstance(val,str) else val\n",
    "            # print(prop, val)\n",
    "            arr.append(f'{prop} == {val}')\n",
    "\n",
    "            query = ' and '.join(arr)\n",
    "        result = self.df.query(query)\n",
    "\n",
    "        if len(result) == 0:\n",
    "            raise Exception(\"I don't know\")\n",
    "        \n",
    "        return (int)(result['Left'].mean())"
   ]
  },
  {
   "cell_type": "code",
   "execution_count": 2,
   "id": "d7077064-c35e-4bcd-bb53-0d75fc153ad1",
   "metadata": {},
   "outputs": [],
   "source": [
    "sme = SME()"
   ]
  },
  {
   "cell_type": "code",
   "execution_count": 3,
   "id": "6938bdc6-3244-47a0-aca3-bc54bffdffa1",
   "metadata": {},
   "outputs": [
    {
     "data": {
      "text/plain": [
       "Index(['RecordId', 'Gender', 'Distance', 'YearsWorked', 'TrainingHours',\n",
       "       'WorkLifeBalance', 'NumOfProjects', 'JobInvolvement', 'TeamSize',\n",
       "       'MentorshipReceived', 'TechSkillLevel', 'AttendanceRate', 'StressLevel',\n",
       "       'PeerFeedbackScore', 'AnnualLeaveDays', 'Certifications',\n",
       "       'SkillDevelopmentCourses', 'ProjectComplexity', 'WorkSatisfactionScore',\n",
       "       'JobEngagementScore', 'PhysicalActivityScore', 'MentalWellbeingScore',\n",
       "       'DepartmentCode', 'PreviousSalary', 'Salary', 'SelfReview',\n",
       "       'SupervisorReview', 'Left'],\n",
       "      dtype='object')"
      ]
     },
     "execution_count": 3,
     "metadata": {},
     "output_type": "execute_result"
    }
   ],
   "source": [
    "sme.df.columns"
   ]
  },
  {
   "cell_type": "code",
   "execution_count": 4,
   "id": "962d6fb0-73a0-4bbc-a128-4d33eb6210b2",
   "metadata": {},
   "outputs": [],
   "source": [
    "X_train = pd.read_csv('https://raw.githubusercontent.com/msaricaumbc/DS_data/master/ds602/final/employee_departure_dataset_X.csv')"
   ]
  },
  {
   "cell_type": "code",
   "execution_count": 5,
   "id": "df0c061d-ef6e-4a5e-9616-28995c3141e6",
   "metadata": {},
   "outputs": [
    {
     "data": {
      "text/plain": [
       "\"\\nnum = ['HighStress', 'LongDist','Gender','RecordId', 'YearsWorked', 'TrainingHours', \\n       'WorkLifeBalance', 'NumOfProjects', 'JobInvolvement', 'TeamSize',\\n       'MentorshipReceived', 'TechSkillLevel', 'AttendanceRate', 'StressLevel',\\n       'PeerFeedbackScore', 'AnnualLeaveDays', 'Certifications',\\n       'SkillDevelopmentCourses', 'ProjectComplexity', 'WorkSatisfactionScore',\\n       'JobEngagementScore', 'PhysicalActivityScore', 'MentalWellbeingScore',\\n       'PreviousSalary', 'Salary', 'SelfReview',\\n       'SupervisorReview', 'Raise', 'ReviewDiff', 'ReviewOverRaise']\\n\""
      ]
     },
     "execution_count": 5,
     "metadata": {},
     "output_type": "execute_result"
    }
   ],
   "source": [
    "sme.df['SelfReview'] = sme.df['SelfReview'].fillna(sme.df['SelfReview'].median())\n",
    "sme.df['SupervisorReview'] = sme.df['SupervisorReview'].fillna(sme.df['SupervisorReview'].median())\n",
    "sme.df[['Salary', 'PreviousSalary']] = sme.df[['Salary', 'PreviousSalary']].map(lambda x: x.replace('K', '000') if isinstance(x, str) else x)\n",
    "sme.df[['Salary', 'PreviousSalary']] = sme.df[['Salary', 'PreviousSalary']].astype(int)\n",
    "\n",
    "sme.df['Raise'] = (sme.df['Salary'] / sme.df['PreviousSalary']) - 1\n",
    "sme.df['ReviewDiff'] = sme.df['SelfReview'] - sme.df['SupervisorReview']\n",
    "sme.df['ReviewOverRaise'] = sme.df['SelfReview'] / (sme.df['Raise'] +.0001)\n",
    "\n",
    "sme.df['LongDist'] = np.where(sme.df['Distance'].isin(['~20miles', '>30miles']), 1, 0)\n",
    "\n",
    "sme.df['HighStress'] = np.where(sme.df['StressLevel'] > 3.5, 1, 0)\n",
    "\n",
    "num = ['HighStress', 'LongDist','Gender', 'SupervisorReview','SelfReview', 'Raise', 'Salary','ReviewOverRaise'] #'ReviewOverRaise','ReviewDiff', 'StressLevel'\n",
    "cat = ['DepartmentCode']#'Distance',\n",
    "#num = ['Raise', 'StressLevel']\n",
    "\n",
    "\"\"\"\n",
    "num = ['HighStress', 'LongDist','Gender','RecordId', 'YearsWorked', 'TrainingHours', \n",
    "       'WorkLifeBalance', 'NumOfProjects', 'JobInvolvement', 'TeamSize',\n",
    "       'MentorshipReceived', 'TechSkillLevel', 'AttendanceRate', 'StressLevel',\n",
    "       'PeerFeedbackScore', 'AnnualLeaveDays', 'Certifications',\n",
    "       'SkillDevelopmentCourses', 'ProjectComplexity', 'WorkSatisfactionScore',\n",
    "       'JobEngagementScore', 'PhysicalActivityScore', 'MentalWellbeingScore',\n",
    "       'PreviousSalary', 'Salary', 'SelfReview',\n",
    "       'SupervisorReview', 'Raise', 'ReviewDiff', 'ReviewOverRaise']\n",
    "\"\"\""
   ]
  },
  {
   "cell_type": "markdown",
   "id": "d0b31aef-b1db-484b-8c48-4f72194f5641",
   "metadata": {},
   "source": [
    "# Establish the preprocessing for numeric and categorical features."
   ]
  },
  {
   "cell_type": "code",
   "execution_count": 7,
   "id": "bcbd0787-d617-4921-9630-d70f3e380fce",
   "metadata": {},
   "outputs": [],
   "source": [
    "from sklearn.pipeline import Pipeline\n",
    "from sklearn.compose import ColumnTransformer\n",
    "from sklearn.decomposition import PCA\n",
    "from sklearn.preprocessing import StandardScaler, OneHotEncoder\n",
    "from sklearn.cluster import KMeans\n",
    "\n",
    "n_clusters = 500\n",
    "\n",
    "featureprocessor = ColumnTransformer(\n",
    "    transformers=[\n",
    "        ('num', StandardScaler(), num)#,\n",
    "        #('cat', OneHotEncoder(), cat)\n",
    "    ])\n",
    "preprocessor = Pipeline(steps=[\n",
    "    ('features', featureprocessor),\n",
    "    ('pca', PCA(n_components=0.9)),\n",
    "    ('kmeans', KMeans(n_clusters=n_clusters, random_state=42, n_init='auto'))\n",
    "])\n",
    "#('kmeans', KMeans(n_clusters=n_clusters, n_init='auto'), num)#+cat)\n",
    "#('kmeans', KMeans(n_clusters=n_clusters, n_init='auto')"
   ]
  },
  {
   "cell_type": "code",
   "execution_count": 8,
   "id": "c627e000-46a6-448b-abe7-22145c9e7d70",
   "metadata": {},
   "outputs": [],
   "source": [
    "X_dist = preprocessor.fit_transform(sme.df[num+cat])"
   ]
  },
  {
   "cell_type": "code",
   "execution_count": 9,
   "id": "002913b0-d755-46aa-8045-76ffb9acd608",
   "metadata": {},
   "outputs": [
    {
     "data": {
      "text/html": [
       "<style>#sk-container-id-1 {color: black;}#sk-container-id-1 pre{padding: 0;}#sk-container-id-1 div.sk-toggleable {background-color: white;}#sk-container-id-1 label.sk-toggleable__label {cursor: pointer;display: block;width: 100%;margin-bottom: 0;padding: 0.3em;box-sizing: border-box;text-align: center;}#sk-container-id-1 label.sk-toggleable__label-arrow:before {content: \"▸\";float: left;margin-right: 0.25em;color: #696969;}#sk-container-id-1 label.sk-toggleable__label-arrow:hover:before {color: black;}#sk-container-id-1 div.sk-estimator:hover label.sk-toggleable__label-arrow:before {color: black;}#sk-container-id-1 div.sk-toggleable__content {max-height: 0;max-width: 0;overflow: hidden;text-align: left;background-color: #f0f8ff;}#sk-container-id-1 div.sk-toggleable__content pre {margin: 0.2em;color: black;border-radius: 0.25em;background-color: #f0f8ff;}#sk-container-id-1 input.sk-toggleable__control:checked~div.sk-toggleable__content {max-height: 200px;max-width: 100%;overflow: auto;}#sk-container-id-1 input.sk-toggleable__control:checked~label.sk-toggleable__label-arrow:before {content: \"▾\";}#sk-container-id-1 div.sk-estimator input.sk-toggleable__control:checked~label.sk-toggleable__label {background-color: #d4ebff;}#sk-container-id-1 div.sk-label input.sk-toggleable__control:checked~label.sk-toggleable__label {background-color: #d4ebff;}#sk-container-id-1 input.sk-hidden--visually {border: 0;clip: rect(1px 1px 1px 1px);clip: rect(1px, 1px, 1px, 1px);height: 1px;margin: -1px;overflow: hidden;padding: 0;position: absolute;width: 1px;}#sk-container-id-1 div.sk-estimator {font-family: monospace;background-color: #f0f8ff;border: 1px dotted black;border-radius: 0.25em;box-sizing: border-box;margin-bottom: 0.5em;}#sk-container-id-1 div.sk-estimator:hover {background-color: #d4ebff;}#sk-container-id-1 div.sk-parallel-item::after {content: \"\";width: 100%;border-bottom: 1px solid gray;flex-grow: 1;}#sk-container-id-1 div.sk-label:hover label.sk-toggleable__label {background-color: #d4ebff;}#sk-container-id-1 div.sk-serial::before {content: \"\";position: absolute;border-left: 1px solid gray;box-sizing: border-box;top: 0;bottom: 0;left: 50%;z-index: 0;}#sk-container-id-1 div.sk-serial {display: flex;flex-direction: column;align-items: center;background-color: white;padding-right: 0.2em;padding-left: 0.2em;position: relative;}#sk-container-id-1 div.sk-item {position: relative;z-index: 1;}#sk-container-id-1 div.sk-parallel {display: flex;align-items: stretch;justify-content: center;background-color: white;position: relative;}#sk-container-id-1 div.sk-item::before, #sk-container-id-1 div.sk-parallel-item::before {content: \"\";position: absolute;border-left: 1px solid gray;box-sizing: border-box;top: 0;bottom: 0;left: 50%;z-index: -1;}#sk-container-id-1 div.sk-parallel-item {display: flex;flex-direction: column;z-index: 1;position: relative;background-color: white;}#sk-container-id-1 div.sk-parallel-item:first-child::after {align-self: flex-end;width: 50%;}#sk-container-id-1 div.sk-parallel-item:last-child::after {align-self: flex-start;width: 50%;}#sk-container-id-1 div.sk-parallel-item:only-child::after {width: 0;}#sk-container-id-1 div.sk-dashed-wrapped {border: 1px dashed gray;margin: 0 0.4em 0.5em 0.4em;box-sizing: border-box;padding-bottom: 0.4em;background-color: white;}#sk-container-id-1 div.sk-label label {font-family: monospace;font-weight: bold;display: inline-block;line-height: 1.2em;}#sk-container-id-1 div.sk-label-container {text-align: center;}#sk-container-id-1 div.sk-container {/* jupyter's `normalize.less` sets `[hidden] { display: none; }` but bootstrap.min.css set `[hidden] { display: none !important; }` so we also need the `!important` here to be able to override the default hidden behavior on the sphinx rendered scikit-learn.org. See: https://github.com/scikit-learn/scikit-learn/issues/21755 */display: inline-block !important;position: relative;}#sk-container-id-1 div.sk-text-repr-fallback {display: none;}</style><div id=\"sk-container-id-1\" class=\"sk-top-container\"><div class=\"sk-text-repr-fallback\"><pre>Pipeline(steps=[(&#x27;features&#x27;,\n",
       "                 ColumnTransformer(transformers=[(&#x27;num&#x27;, StandardScaler(),\n",
       "                                                  [&#x27;HighStress&#x27;, &#x27;LongDist&#x27;,\n",
       "                                                   &#x27;Gender&#x27;, &#x27;SupervisorReview&#x27;,\n",
       "                                                   &#x27;SelfReview&#x27;, &#x27;Raise&#x27;,\n",
       "                                                   &#x27;Salary&#x27;,\n",
       "                                                   &#x27;ReviewOverRaise&#x27;])])),\n",
       "                (&#x27;pca&#x27;, PCA(n_components=0.9)),\n",
       "                (&#x27;kmeans&#x27;,\n",
       "                 KMeans(n_clusters=500, n_init=&#x27;auto&#x27;, random_state=42))])</pre><b>In a Jupyter environment, please rerun this cell to show the HTML representation or trust the notebook. <br />On GitHub, the HTML representation is unable to render, please try loading this page with nbviewer.org.</b></div><div class=\"sk-container\" hidden><div class=\"sk-item sk-dashed-wrapped\"><div class=\"sk-label-container\"><div class=\"sk-label sk-toggleable\"><input class=\"sk-toggleable__control sk-hidden--visually\" id=\"sk-estimator-id-1\" type=\"checkbox\" ><label for=\"sk-estimator-id-1\" class=\"sk-toggleable__label sk-toggleable__label-arrow\">Pipeline</label><div class=\"sk-toggleable__content\"><pre>Pipeline(steps=[(&#x27;features&#x27;,\n",
       "                 ColumnTransformer(transformers=[(&#x27;num&#x27;, StandardScaler(),\n",
       "                                                  [&#x27;HighStress&#x27;, &#x27;LongDist&#x27;,\n",
       "                                                   &#x27;Gender&#x27;, &#x27;SupervisorReview&#x27;,\n",
       "                                                   &#x27;SelfReview&#x27;, &#x27;Raise&#x27;,\n",
       "                                                   &#x27;Salary&#x27;,\n",
       "                                                   &#x27;ReviewOverRaise&#x27;])])),\n",
       "                (&#x27;pca&#x27;, PCA(n_components=0.9)),\n",
       "                (&#x27;kmeans&#x27;,\n",
       "                 KMeans(n_clusters=500, n_init=&#x27;auto&#x27;, random_state=42))])</pre></div></div></div><div class=\"sk-serial\"><div class=\"sk-item sk-dashed-wrapped\"><div class=\"sk-label-container\"><div class=\"sk-label sk-toggleable\"><input class=\"sk-toggleable__control sk-hidden--visually\" id=\"sk-estimator-id-2\" type=\"checkbox\" ><label for=\"sk-estimator-id-2\" class=\"sk-toggleable__label sk-toggleable__label-arrow\">features: ColumnTransformer</label><div class=\"sk-toggleable__content\"><pre>ColumnTransformer(transformers=[(&#x27;num&#x27;, StandardScaler(),\n",
       "                                 [&#x27;HighStress&#x27;, &#x27;LongDist&#x27;, &#x27;Gender&#x27;,\n",
       "                                  &#x27;SupervisorReview&#x27;, &#x27;SelfReview&#x27;, &#x27;Raise&#x27;,\n",
       "                                  &#x27;Salary&#x27;, &#x27;ReviewOverRaise&#x27;])])</pre></div></div></div><div class=\"sk-parallel\"><div class=\"sk-parallel-item\"><div class=\"sk-item\"><div class=\"sk-label-container\"><div class=\"sk-label sk-toggleable\"><input class=\"sk-toggleable__control sk-hidden--visually\" id=\"sk-estimator-id-3\" type=\"checkbox\" ><label for=\"sk-estimator-id-3\" class=\"sk-toggleable__label sk-toggleable__label-arrow\">num</label><div class=\"sk-toggleable__content\"><pre>[&#x27;HighStress&#x27;, &#x27;LongDist&#x27;, &#x27;Gender&#x27;, &#x27;SupervisorReview&#x27;, &#x27;SelfReview&#x27;, &#x27;Raise&#x27;, &#x27;Salary&#x27;, &#x27;ReviewOverRaise&#x27;]</pre></div></div></div><div class=\"sk-serial\"><div class=\"sk-item\"><div class=\"sk-estimator sk-toggleable\"><input class=\"sk-toggleable__control sk-hidden--visually\" id=\"sk-estimator-id-4\" type=\"checkbox\" ><label for=\"sk-estimator-id-4\" class=\"sk-toggleable__label sk-toggleable__label-arrow\">StandardScaler</label><div class=\"sk-toggleable__content\"><pre>StandardScaler()</pre></div></div></div></div></div></div></div></div><div class=\"sk-item\"><div class=\"sk-estimator sk-toggleable\"><input class=\"sk-toggleable__control sk-hidden--visually\" id=\"sk-estimator-id-5\" type=\"checkbox\" ><label for=\"sk-estimator-id-5\" class=\"sk-toggleable__label sk-toggleable__label-arrow\">PCA</label><div class=\"sk-toggleable__content\"><pre>PCA(n_components=0.9)</pre></div></div></div><div class=\"sk-item\"><div class=\"sk-estimator sk-toggleable\"><input class=\"sk-toggleable__control sk-hidden--visually\" id=\"sk-estimator-id-6\" type=\"checkbox\" ><label for=\"sk-estimator-id-6\" class=\"sk-toggleable__label sk-toggleable__label-arrow\">KMeans</label><div class=\"sk-toggleable__content\"><pre>KMeans(n_clusters=500, n_init=&#x27;auto&#x27;, random_state=42)</pre></div></div></div></div></div></div></div>"
      ],
      "text/plain": [
       "Pipeline(steps=[('features',\n",
       "                 ColumnTransformer(transformers=[('num', StandardScaler(),\n",
       "                                                  ['HighStress', 'LongDist',\n",
       "                                                   'Gender', 'SupervisorReview',\n",
       "                                                   'SelfReview', 'Raise',\n",
       "                                                   'Salary',\n",
       "                                                   'ReviewOverRaise'])])),\n",
       "                ('pca', PCA(n_components=0.9)),\n",
       "                ('kmeans',\n",
       "                 KMeans(n_clusters=500, n_init='auto', random_state=42))])"
      ]
     },
     "execution_count": 9,
     "metadata": {},
     "output_type": "execute_result"
    }
   ],
   "source": [
    "preprocessor"
   ]
  },
  {
   "cell_type": "code",
   "execution_count": 10,
   "id": "e64900ad-4045-410c-be0e-c45b30939c7a",
   "metadata": {},
   "outputs": [],
   "source": [
    "kmeans = KMeans(n_clusters = n_clusters, n_init='auto')\n",
    "pre = featureprocessor.fit_transform(sme.df[num+cat])"
   ]
  },
  {
   "cell_type": "code",
   "execution_count": 11,
   "id": "e63618e7-9d9d-41cf-9ddd-2f7dc6318011",
   "metadata": {},
   "outputs": [
    {
     "data": {
      "text/plain": [
       "array([[4.27075289, 2.18906185, 3.73032674, ..., 3.04856675, 4.16362393,\n",
       "        3.43010667],\n",
       "       [2.15930482, 3.19133776, 2.21416168, ..., 3.58987003, 1.68254697,\n",
       "        3.27334457],\n",
       "       [4.30078498, 2.9491818 , 3.12369086, ..., 4.22292685, 4.20310753,\n",
       "        4.61616773],\n",
       "       ...,\n",
       "       [4.85006033, 4.52845628, 3.6071235 , ..., 5.6971264 , 5.12726554,\n",
       "        4.43018188],\n",
       "       [2.05756492, 3.1039046 , 2.26426998, ..., 3.67810165, 2.54300597,\n",
       "        3.49210281],\n",
       "       [4.0037526 , 2.90216922, 4.0882788 , ..., 3.85635078, 3.99717466,\n",
       "        3.97002199]])"
      ]
     },
     "execution_count": 11,
     "metadata": {},
     "output_type": "execute_result"
    }
   ],
   "source": [
    "X_dist = kmeans.fit_transform(pre)\n",
    "X_dist"
   ]
  },
  {
   "cell_type": "code",
   "execution_count": 12,
   "id": "4f0a4c58-93ea-4d34-b1a0-ead06b8e1e1e",
   "metadata": {},
   "outputs": [
    {
     "data": {
      "text/plain": [
       "(500000, 500)"
      ]
     },
     "execution_count": 12,
     "metadata": {},
     "output_type": "execute_result"
    }
   ],
   "source": [
    "X_dist.shape"
   ]
  },
  {
   "cell_type": "code",
   "execution_count": 13,
   "id": "8ffd6b51-2377-453c-9a7f-ad1dd4fd9b7a",
   "metadata": {},
   "outputs": [
    {
     "data": {
      "text/plain": [
       "257    3729\n",
       "67     3434\n",
       "22     3347\n",
       "475    3154\n",
       "112    2971\n",
       "       ... \n",
       "274     209\n",
       "368     180\n",
       "496     178\n",
       "188     155\n",
       "208     139\n",
       "Name: count, Length: 500, dtype: int64"
      ]
     },
     "execution_count": 13,
     "metadata": {},
     "output_type": "execute_result"
    }
   ],
   "source": [
    "#How many points are in each cluster?\n",
    "pd.Series(kmeans.labels_).value_counts()"
   ]
  },
  {
   "cell_type": "code",
   "execution_count": 14,
   "id": "f3511df1-0d80-4486-8c66-7f447ee4086d",
   "metadata": {},
   "outputs": [
    {
     "data": {
      "text/plain": [
       "(500,)"
      ]
     },
     "execution_count": 14,
     "metadata": {},
     "output_type": "execute_result"
    }
   ],
   "source": [
    "import numpy as np\n",
    "#What are the reporesentative points? (e.i the ones closest to each centroid)\n",
    "representative_idx = np.argmin(X_dist, axis=0)\n",
    "representative_idx.shape"
   ]
  },
  {
   "cell_type": "code",
   "execution_count": 15,
   "id": "a61a01fa-3fb6-42c9-b2f0-39d8f871b58e",
   "metadata": {},
   "outputs": [
    {
     "data": {
      "text/plain": [
       "array([ 10976,    743,   2789,   7042,   8579,   2807,  10851,   1402,\n",
       "         2829,   9517,    713,   1561,   9036,    585,   5950,  12000,\n",
       "          779,   4848,  11039,  59193,   6937,   4150,   2538,  10963,\n",
       "         5600,   1520, 108864,  28816,  20238,    428,   3484,  12558,\n",
       "        24062,  24804,  12383,   3045,   5381,  39616,    815, 137007,\n",
       "         2732,   5380,   3360,  20169,   5129,   9702,  11724,   5748,\n",
       "        71581,   1283,   5002,   5389,  44945,   1426,  30165,   2275,\n",
       "        30797,   5736,  46705,   2216,    139,      1,   7864,   7576,\n",
       "         3187,   6138,  18073,   1082,  91763,   7336,  34116,    896,\n",
       "         9402,  28879,   5936,   7385,  36955,    456,   2083,   9113,\n",
       "         2018,  19080,  12896,  33196,  10959,   4017,  12790,  30809,\n",
       "         1424,    769,  27090,    664,     12,    591,   2352,   5571,\n",
       "          901,   1870,  17758,    997,   5912,   2880,   9958,  25231,\n",
       "          757,   1005,   1214,   5000,   2317,   1412,  80831,    672,\n",
       "          384,   3664,  16294,  23206,    512,   7882,   1541, 278200,\n",
       "        14773,  38678,     84, 172557,  25241,  23038,  20820,  27921,\n",
       "        41363,  10265,   4717,  19787,  84970,   1200,   2540,   1683,\n",
       "         7025,    566, 105530,   3711,    218,    785,   9149, 182153,\n",
       "        35848,   1321,  13398,  35060,  24083,   4364,   2300,   6660,\n",
       "         8655,  11429,   7945,   5021,   9006,   1354,  54246,   1958,\n",
       "         3065,   1619,   2519,   2524,   5176,   1917,  33649,   1518,\n",
       "        84343,   3059,  33005,   3571,  15088,  13077,   9321,   8833,\n",
       "         9041,   5978,   2649,  45434,  11283,  71564,   1830,    866,\n",
       "        15861,   8933,     27,   4551,  57048,   8198,   1506,  20173,\n",
       "         5506,  23405,   1771,   5845,  84345,   2310,   1235,    500,\n",
       "        19391,   2445,   4278,   7184,    223,   4619,   2870,  69577,\n",
       "       424633,   1380,    470,   4584, 237689,  21654,   2089,  50609,\n",
       "         1846,   5545,    414, 139706,  11393,   6184,   5733,  31993,\n",
       "         1866, 428867,    842,  20435,  12774,  11506,  10727,  17290,\n",
       "          806,  89171,   9387,   3534,   1268,    601,  72534,   2770,\n",
       "        68312,  34589,  42099,   8519,   3248,  42050,  31994,  22343,\n",
       "        17715,  91458,  11494,  70998,   2762,   3853,     13,  13296,\n",
       "         2671,    378,  91928,   9044,  10305,   8550,   5410,   4418,\n",
       "        33966, 129230,   5705,   7562,   2551,   7011,    635,   1495,\n",
       "        20284,   6951,  77976,  27111,  12735,  13181,   5111,  93125,\n",
       "         2771,  27973,   8186,   7972,   7626,   1642,   1016,  36459,\n",
       "        17561,    521,  74676,  12133,  19307,    159,   8027,   3283,\n",
       "        20459,   4813,  74734,    433,    745,   1647,   3909,  54428,\n",
       "       353794,   2351,  13617,  24180,  10243,   3804,  63528,  18999,\n",
       "         1949,  14760,  50335,     49,   5249,  15892,  24393,   2288,\n",
       "        85947,  60837,   4624,  27037,  14682,    352,   7844,   1953,\n",
       "        21196,    955,  86037,   1850,   8897,   5425,  16679, 161483,\n",
       "        29565,   9261,   8780,    335,   4149,  23260,  35972,   1461,\n",
       "         7094,   5853, 361409,  22013,   3384,   2282,   4116,  12369,\n",
       "        20304,  10362,   3504,  19433,   2088,   2374,  56927,   2397,\n",
       "        55428,   6787,    273,  21554,   4610,  93521, 263719,   8272,\n",
       "       265963,  21530,   5846,  85259,  21228,  10323,  21418,   3005,\n",
       "         8723,   1831,  11079,  21324,    371,  80595, 111393,   4047,\n",
       "         7263,  11144,   3821,   1947,  49405,   1592,   8569,    989,\n",
       "         2512,   1028,  16207,  85291,   2970,   2655,   6579,  13175,\n",
       "        65967,   7772,  11447,   1569,  16433,   6718, 194005,  29676,\n",
       "        88942,  16524, 173942,  46016,   8069,  12294,   1143,   2795,\n",
       "        26461,   3392, 142188,  23653, 148083,  14816,   3075,  13313,\n",
       "         5148,   6049,  16000, 384598,   1026,   6024,   9189,  29054,\n",
       "        48629,  48214,   9088,  20861,   5346,   1043,  11058,  27558,\n",
       "        15475,    266,  32807,  30554,  34334,   6566,  47981,  88219,\n",
       "        17645,  21796,  24676,    179,  52409,    724,  10953,   1238,\n",
       "         4918,  12912,  32456,  52077,  18470,   9378,  44281,   5940,\n",
       "       106835,   1843,   5160,  22060,   6174,   8472,   9453,   9849,\n",
       "        17894,  11920,   1991,    532,   5898,  29326,    247, 157340,\n",
       "       129309,    529,  37886, 181141,  22878,  73722,   2826,  22967,\n",
       "        25428,  14382,   1338,   3679,   2730,  11065,   7909,  98720,\n",
       "       317360,   5322,    289,  17747], dtype=int64)"
      ]
     },
     "execution_count": 15,
     "metadata": {},
     "output_type": "execute_result"
    }
   ],
   "source": [
    "#What is the index number of each representative point?\n",
    "representative_idx"
   ]
  },
  {
   "cell_type": "code",
   "execution_count": 16,
   "id": "caa2bb11-1293-4b8d-be5c-b0740904e1f4",
   "metadata": {},
   "outputs": [
    {
     "data": {
      "text/html": [
       "<div>\n",
       "<style scoped>\n",
       "    .dataframe tbody tr th:only-of-type {\n",
       "        vertical-align: middle;\n",
       "    }\n",
       "\n",
       "    .dataframe tbody tr th {\n",
       "        vertical-align: top;\n",
       "    }\n",
       "\n",
       "    .dataframe thead th {\n",
       "        text-align: right;\n",
       "    }\n",
       "</style>\n",
       "<table border=\"1\" class=\"dataframe\">\n",
       "  <thead>\n",
       "    <tr style=\"text-align: right;\">\n",
       "      <th></th>\n",
       "      <th>RecordId</th>\n",
       "      <th>Gender</th>\n",
       "      <th>Distance</th>\n",
       "      <th>YearsWorked</th>\n",
       "      <th>TrainingHours</th>\n",
       "      <th>WorkLifeBalance</th>\n",
       "      <th>NumOfProjects</th>\n",
       "      <th>JobInvolvement</th>\n",
       "      <th>TeamSize</th>\n",
       "      <th>MentorshipReceived</th>\n",
       "      <th>...</th>\n",
       "      <th>PreviousSalary</th>\n",
       "      <th>Salary</th>\n",
       "      <th>SelfReview</th>\n",
       "      <th>SupervisorReview</th>\n",
       "      <th>Left</th>\n",
       "      <th>Raise</th>\n",
       "      <th>ReviewDiff</th>\n",
       "      <th>ReviewOverRaise</th>\n",
       "      <th>LongDist</th>\n",
       "      <th>HighStress</th>\n",
       "    </tr>\n",
       "  </thead>\n",
       "  <tbody>\n",
       "    <tr>\n",
       "      <th>10976</th>\n",
       "      <td>11076</td>\n",
       "      <td>0</td>\n",
       "      <td>~10miles</td>\n",
       "      <td>6</td>\n",
       "      <td>72</td>\n",
       "      <td>1</td>\n",
       "      <td>13</td>\n",
       "      <td>4</td>\n",
       "      <td>12</td>\n",
       "      <td>0</td>\n",
       "      <td>...</td>\n",
       "      <td>56000</td>\n",
       "      <td>57000</td>\n",
       "      <td>5.0</td>\n",
       "      <td>5.0</td>\n",
       "      <td>1</td>\n",
       "      <td>0.017857</td>\n",
       "      <td>0.0</td>\n",
       "      <td>278.440732</td>\n",
       "      <td>0</td>\n",
       "      <td>1</td>\n",
       "    </tr>\n",
       "    <tr>\n",
       "      <th>743</th>\n",
       "      <td>843</td>\n",
       "      <td>1</td>\n",
       "      <td>~10miles</td>\n",
       "      <td>10</td>\n",
       "      <td>58</td>\n",
       "      <td>4</td>\n",
       "      <td>5</td>\n",
       "      <td>5</td>\n",
       "      <td>2</td>\n",
       "      <td>1</td>\n",
       "      <td>...</td>\n",
       "      <td>70000</td>\n",
       "      <td>71000</td>\n",
       "      <td>4.0</td>\n",
       "      <td>4.0</td>\n",
       "      <td>0</td>\n",
       "      <td>0.014286</td>\n",
       "      <td>0.0</td>\n",
       "      <td>278.053625</td>\n",
       "      <td>0</td>\n",
       "      <td>0</td>\n",
       "    </tr>\n",
       "    <tr>\n",
       "      <th>2789</th>\n",
       "      <td>2889</td>\n",
       "      <td>0</td>\n",
       "      <td>~10miles</td>\n",
       "      <td>5</td>\n",
       "      <td>41</td>\n",
       "      <td>5</td>\n",
       "      <td>9</td>\n",
       "      <td>2</td>\n",
       "      <td>14</td>\n",
       "      <td>0</td>\n",
       "      <td>...</td>\n",
       "      <td>53000</td>\n",
       "      <td>55000</td>\n",
       "      <td>4.0</td>\n",
       "      <td>4.0</td>\n",
       "      <td>0</td>\n",
       "      <td>0.037736</td>\n",
       "      <td>0.0</td>\n",
       "      <td>105.719842</td>\n",
       "      <td>0</td>\n",
       "      <td>0</td>\n",
       "    </tr>\n",
       "    <tr>\n",
       "      <th>7042</th>\n",
       "      <td>7142</td>\n",
       "      <td>0</td>\n",
       "      <td>~20miles</td>\n",
       "      <td>9</td>\n",
       "      <td>68</td>\n",
       "      <td>2</td>\n",
       "      <td>11</td>\n",
       "      <td>3</td>\n",
       "      <td>12</td>\n",
       "      <td>1</td>\n",
       "      <td>...</td>\n",
       "      <td>52000</td>\n",
       "      <td>54000</td>\n",
       "      <td>5.0</td>\n",
       "      <td>4.0</td>\n",
       "      <td>1</td>\n",
       "      <td>0.038462</td>\n",
       "      <td>1.0</td>\n",
       "      <td>129.662877</td>\n",
       "      <td>1</td>\n",
       "      <td>0</td>\n",
       "    </tr>\n",
       "    <tr>\n",
       "      <th>8579</th>\n",
       "      <td>8679</td>\n",
       "      <td>0</td>\n",
       "      <td>~15miles</td>\n",
       "      <td>4</td>\n",
       "      <td>13</td>\n",
       "      <td>3</td>\n",
       "      <td>1</td>\n",
       "      <td>5</td>\n",
       "      <td>10</td>\n",
       "      <td>1</td>\n",
       "      <td>...</td>\n",
       "      <td>79000</td>\n",
       "      <td>79000</td>\n",
       "      <td>5.0</td>\n",
       "      <td>5.0</td>\n",
       "      <td>1</td>\n",
       "      <td>0.000000</td>\n",
       "      <td>0.0</td>\n",
       "      <td>50000.000000</td>\n",
       "      <td>0</td>\n",
       "      <td>0</td>\n",
       "    </tr>\n",
       "    <tr>\n",
       "      <th>...</th>\n",
       "      <td>...</td>\n",
       "      <td>...</td>\n",
       "      <td>...</td>\n",
       "      <td>...</td>\n",
       "      <td>...</td>\n",
       "      <td>...</td>\n",
       "      <td>...</td>\n",
       "      <td>...</td>\n",
       "      <td>...</td>\n",
       "      <td>...</td>\n",
       "      <td>...</td>\n",
       "      <td>...</td>\n",
       "      <td>...</td>\n",
       "      <td>...</td>\n",
       "      <td>...</td>\n",
       "      <td>...</td>\n",
       "      <td>...</td>\n",
       "      <td>...</td>\n",
       "      <td>...</td>\n",
       "      <td>...</td>\n",
       "      <td>...</td>\n",
       "    </tr>\n",
       "    <tr>\n",
       "      <th>98720</th>\n",
       "      <td>98820</td>\n",
       "      <td>0</td>\n",
       "      <td>~20miles</td>\n",
       "      <td>6</td>\n",
       "      <td>18</td>\n",
       "      <td>1</td>\n",
       "      <td>4</td>\n",
       "      <td>2</td>\n",
       "      <td>16</td>\n",
       "      <td>0</td>\n",
       "      <td>...</td>\n",
       "      <td>82000</td>\n",
       "      <td>85000</td>\n",
       "      <td>3.0</td>\n",
       "      <td>2.0</td>\n",
       "      <td>0</td>\n",
       "      <td>0.036585</td>\n",
       "      <td>1.0</td>\n",
       "      <td>81.776478</td>\n",
       "      <td>1</td>\n",
       "      <td>0</td>\n",
       "    </tr>\n",
       "    <tr>\n",
       "      <th>317360</th>\n",
       "      <td>317460</td>\n",
       "      <td>1</td>\n",
       "      <td>~20miles</td>\n",
       "      <td>8</td>\n",
       "      <td>54</td>\n",
       "      <td>4</td>\n",
       "      <td>18</td>\n",
       "      <td>1</td>\n",
       "      <td>3</td>\n",
       "      <td>1</td>\n",
       "      <td>...</td>\n",
       "      <td>67000</td>\n",
       "      <td>70000</td>\n",
       "      <td>3.0</td>\n",
       "      <td>2.0</td>\n",
       "      <td>0</td>\n",
       "      <td>0.044776</td>\n",
       "      <td>1.0</td>\n",
       "      <td>66.850700</td>\n",
       "      <td>1</td>\n",
       "      <td>0</td>\n",
       "    </tr>\n",
       "    <tr>\n",
       "      <th>5322</th>\n",
       "      <td>5422</td>\n",
       "      <td>1</td>\n",
       "      <td>&lt;5mile</td>\n",
       "      <td>6</td>\n",
       "      <td>39</td>\n",
       "      <td>3</td>\n",
       "      <td>6</td>\n",
       "      <td>4</td>\n",
       "      <td>6</td>\n",
       "      <td>0</td>\n",
       "      <td>...</td>\n",
       "      <td>59000</td>\n",
       "      <td>60000</td>\n",
       "      <td>3.0</td>\n",
       "      <td>5.0</td>\n",
       "      <td>0</td>\n",
       "      <td>0.016949</td>\n",
       "      <td>-2.0</td>\n",
       "      <td>175.961825</td>\n",
       "      <td>0</td>\n",
       "      <td>0</td>\n",
       "    </tr>\n",
       "    <tr>\n",
       "      <th>289</th>\n",
       "      <td>389</td>\n",
       "      <td>0</td>\n",
       "      <td>~10miles</td>\n",
       "      <td>9</td>\n",
       "      <td>70</td>\n",
       "      <td>5</td>\n",
       "      <td>12</td>\n",
       "      <td>1</td>\n",
       "      <td>18</td>\n",
       "      <td>0</td>\n",
       "      <td>...</td>\n",
       "      <td>51000</td>\n",
       "      <td>52000</td>\n",
       "      <td>4.0</td>\n",
       "      <td>5.0</td>\n",
       "      <td>1</td>\n",
       "      <td>0.019608</td>\n",
       "      <td>-1.0</td>\n",
       "      <td>202.964879</td>\n",
       "      <td>0</td>\n",
       "      <td>1</td>\n",
       "    </tr>\n",
       "    <tr>\n",
       "      <th>17747</th>\n",
       "      <td>17847</td>\n",
       "      <td>0</td>\n",
       "      <td>&gt;30miles</td>\n",
       "      <td>7</td>\n",
       "      <td>90</td>\n",
       "      <td>3</td>\n",
       "      <td>1</td>\n",
       "      <td>4</td>\n",
       "      <td>2</td>\n",
       "      <td>0</td>\n",
       "      <td>...</td>\n",
       "      <td>75000</td>\n",
       "      <td>76000</td>\n",
       "      <td>5.0</td>\n",
       "      <td>5.0</td>\n",
       "      <td>1</td>\n",
       "      <td>0.013333</td>\n",
       "      <td>0.0</td>\n",
       "      <td>372.208437</td>\n",
       "      <td>1</td>\n",
       "      <td>1</td>\n",
       "    </tr>\n",
       "  </tbody>\n",
       "</table>\n",
       "<p>500 rows × 33 columns</p>\n",
       "</div>"
      ],
      "text/plain": [
       "        RecordId  Gender  Distance  YearsWorked  TrainingHours  \\\n",
       "10976      11076       0  ~10miles            6             72   \n",
       "743          843       1  ~10miles           10             58   \n",
       "2789        2889       0  ~10miles            5             41   \n",
       "7042        7142       0  ~20miles            9             68   \n",
       "8579        8679       0  ~15miles            4             13   \n",
       "...          ...     ...       ...          ...            ...   \n",
       "98720      98820       0  ~20miles            6             18   \n",
       "317360    317460       1  ~20miles            8             54   \n",
       "5322        5422       1    <5mile            6             39   \n",
       "289          389       0  ~10miles            9             70   \n",
       "17747      17847       0  >30miles            7             90   \n",
       "\n",
       "        WorkLifeBalance  NumOfProjects  JobInvolvement  TeamSize  \\\n",
       "10976                 1             13               4        12   \n",
       "743                   4              5               5         2   \n",
       "2789                  5              9               2        14   \n",
       "7042                  2             11               3        12   \n",
       "8579                  3              1               5        10   \n",
       "...                 ...            ...             ...       ...   \n",
       "98720                 1              4               2        16   \n",
       "317360                4             18               1         3   \n",
       "5322                  3              6               4         6   \n",
       "289                   5             12               1        18   \n",
       "17747                 3              1               4         2   \n",
       "\n",
       "        MentorshipReceived  ...  PreviousSalary  Salary  SelfReview  \\\n",
       "10976                    0  ...           56000   57000         5.0   \n",
       "743                      1  ...           70000   71000         4.0   \n",
       "2789                     0  ...           53000   55000         4.0   \n",
       "7042                     1  ...           52000   54000         5.0   \n",
       "8579                     1  ...           79000   79000         5.0   \n",
       "...                    ...  ...             ...     ...         ...   \n",
       "98720                    0  ...           82000   85000         3.0   \n",
       "317360                   1  ...           67000   70000         3.0   \n",
       "5322                     0  ...           59000   60000         3.0   \n",
       "289                      0  ...           51000   52000         4.0   \n",
       "17747                    0  ...           75000   76000         5.0   \n",
       "\n",
       "        SupervisorReview  Left     Raise  ReviewDiff  ReviewOverRaise  \\\n",
       "10976                5.0     1  0.017857         0.0       278.440732   \n",
       "743                  4.0     0  0.014286         0.0       278.053625   \n",
       "2789                 4.0     0  0.037736         0.0       105.719842   \n",
       "7042                 4.0     1  0.038462         1.0       129.662877   \n",
       "8579                 5.0     1  0.000000         0.0     50000.000000   \n",
       "...                  ...   ...       ...         ...              ...   \n",
       "98720                2.0     0  0.036585         1.0        81.776478   \n",
       "317360               2.0     0  0.044776         1.0        66.850700   \n",
       "5322                 5.0     0  0.016949        -2.0       175.961825   \n",
       "289                  5.0     1  0.019608        -1.0       202.964879   \n",
       "17747                5.0     1  0.013333         0.0       372.208437   \n",
       "\n",
       "        LongDist  HighStress  \n",
       "10976          0           1  \n",
       "743            0           0  \n",
       "2789           0           0  \n",
       "7042           1           0  \n",
       "8579           0           0  \n",
       "...          ...         ...  \n",
       "98720          1           0  \n",
       "317360         1           0  \n",
       "5322           0           0  \n",
       "289            0           1  \n",
       "17747          1           1  \n",
       "\n",
       "[500 rows x 33 columns]"
      ]
     },
     "execution_count": 16,
     "metadata": {},
     "output_type": "execute_result"
    }
   ],
   "source": [
    "#What do the reporesentative points look like?\n",
    "X_representative = sme.df.iloc[representative_idx]\n",
    "X_representative"
   ]
  },
  {
   "cell_type": "code",
   "execution_count": 17,
   "id": "77a0ed17-20d1-4807-8cd9-ce75c795bbf9",
   "metadata": {
    "scrolled": true
   },
   "outputs": [],
   "source": [
    "#Look up the leave/stay value of the 500 representative points\n",
    "y_representative= []\n",
    "for i in representative_idx:\n",
    "    y_representative.append(sme.ask({'RecordId': i+100})) #All record Id's are 100 more than the index value"
   ]
  },
  {
   "cell_type": "code",
   "execution_count": 18,
   "id": "697c79fc-08aa-4ec5-9a00-c9af8c68e11c",
   "metadata": {},
   "outputs": [],
   "source": [
    "#Propagate the label value to each point in the cluster.\n",
    "y_train_propagated = np.empty(len(sme.df), dtype=np.int32)\n",
    "for i in range(n_clusters):\n",
    "    y_train_propagated[kmeans.labels_ == i] = y_representative[i]"
   ]
  },
  {
   "cell_type": "code",
   "execution_count": 19,
   "id": "fe799c85-a489-4d34-b7ef-0227d4f39f19",
   "metadata": {},
   "outputs": [],
   "source": [
    "#Assign the labels and leave/stay values to the DF\n",
    "sme.df['Labels'] = kmeans.labels_\n",
    "sme.df['y_pred'] = y_train_propagated"
   ]
  },
  {
   "cell_type": "code",
   "execution_count": 20,
   "id": "e1ad5fcf-99b8-49f3-9d46-cef738a3cb41",
   "metadata": {},
   "outputs": [],
   "source": [
    "sme.df['ClusteringOff']= abs(sme.df['y_pred'] - sme.df['Left']) #Which points are incorrectly labeled / is the clustering off for?"
   ]
  },
  {
   "cell_type": "code",
   "execution_count": 21,
   "id": "85977658-298d-4d2c-aa8f-566a769c0d6b",
   "metadata": {},
   "outputs": [
    {
     "data": {
      "text/plain": [
       "Labels\n",
       "0      0.054398\n",
       "1      0.071371\n",
       "2      0.130876\n",
       "3      0.446788\n",
       "4      0.622296\n",
       "         ...   \n",
       "495    0.453642\n",
       "496    0.123596\n",
       "497    0.071782\n",
       "498    0.049571\n",
       "499    0.062319\n",
       "Name: ClusteringOff, Length: 500, dtype: float64"
      ]
     },
     "execution_count": 21,
     "metadata": {},
     "output_type": "execute_result"
    }
   ],
   "source": [
    "#What Percent incorrect is each cluster?\n",
    "percent_df = sme.df.groupby('Labels')['ClusteringOff'].sum()/sme.df.groupby('Labels')['ClusteringOff'].count()\n",
    "percent_df\n",
    "#percent_df[percent_df>.5].count()"
   ]
  },
  {
   "cell_type": "code",
   "execution_count": 22,
   "id": "6c38a676-ab6f-4139-83d3-0f21761b2fb7",
   "metadata": {},
   "outputs": [
    {
     "data": {
      "text/plain": [
       "0.7440359999999999"
      ]
     },
     "execution_count": 22,
     "metadata": {},
     "output_type": "execute_result"
    }
   ],
   "source": [
    "#What is the total accuracy of the model?\n",
    "1- sme.df['ClusteringOff'].sum() / sme.df['ClusteringOff'].count()"
   ]
  },
  {
   "cell_type": "code",
   "execution_count": 23,
   "id": "75849f78-8c33-4085-b1cd-01c3cbdb646d",
   "metadata": {},
   "outputs": [
    {
     "data": {
      "text/plain": [
       "0.3681238605571287"
      ]
     },
     "execution_count": 23,
     "metadata": {},
     "output_type": "execute_result"
    }
   ],
   "source": [
    "#What percetange of \"Leaving\" predictions did our model get wrong?\n",
    "sme.df[sme.df['Left']==1]['ClusteringOff'].sum() / sme.df[sme.df['Left']==1]['ClusteringOff'].count()"
   ]
  },
  {
   "cell_type": "code",
   "execution_count": 24,
   "id": "1d7899df-dbad-4bdc-9266-6bb69381dbe1",
   "metadata": {},
   "outputs": [
    {
     "data": {
      "text/plain": [
       "0.19262124498105082"
      ]
     },
     "execution_count": 24,
     "metadata": {},
     "output_type": "execute_result"
    }
   ],
   "source": [
    "#What percetange of \"Staying\" predictions did our model get wrong?\n",
    "sme.df[sme.df['Left']==0]['ClusteringOff'].sum() / sme.df[sme.df['Left']==0]['ClusteringOff'].count()"
   ]
  },
  {
   "cell_type": "code",
   "execution_count": 25,
   "id": "5fa43e73-6f6c-4181-99dc-65e7bbdc665c",
   "metadata": {},
   "outputs": [
    {
     "data": {
      "text/plain": [
       "66432"
      ]
     },
     "execution_count": 25,
     "metadata": {},
     "output_type": "execute_result"
    }
   ],
   "source": [
    "#How many \"Stays\" should be \"leaves?\n",
    "sme.df[sme.df['Left']==1]['ClusteringOff'].sum()"
   ]
  },
  {
   "cell_type": "code",
   "execution_count": 26,
   "id": "ff214cca-7196-4442-ac87-924d34028dba",
   "metadata": {},
   "outputs": [
    {
     "data": {
      "text/plain": [
       "61550"
      ]
     },
     "execution_count": 26,
     "metadata": {},
     "output_type": "execute_result"
    }
   ],
   "source": [
    "#How many \"leaves\" Should be \"stays\"?\n",
    "sme.df[sme.df['Left']==0]['ClusteringOff'].sum()"
   ]
  },
  {
   "cell_type": "code",
   "execution_count": null,
   "id": "405a2fe1-a566-4ac5-9470-d0df1a2ea107",
   "metadata": {},
   "outputs": [],
   "source": []
  }
 ],
 "metadata": {
  "kernelspec": {
   "display_name": "Python 3 (ipykernel)",
   "language": "python",
   "name": "python3"
  },
  "language_info": {
   "codemirror_mode": {
    "name": "ipython",
    "version": 3
   },
   "file_extension": ".py",
   "mimetype": "text/x-python",
   "name": "python",
   "nbconvert_exporter": "python",
   "pygments_lexer": "ipython3",
   "version": "3.12.4"
  }
 },
 "nbformat": 4,
 "nbformat_minor": 5
}
