{
 "cells": [
  {
   "cell_type": "markdown",
   "id": "b1dfb847-895f-4079-8d71-26253776ecdf",
   "metadata": {},
   "source": [
    "Set up test model class to open pipeline model from pkl file"
   ]
  },
  {
   "cell_type": "code",
   "execution_count": 2,
   "id": "22cd993b-1482-4c21-ba33-5aa6d22fd822",
   "metadata": {},
   "outputs": [],
   "source": [
    "import joblib\n",
    "\n",
    "class TestModel:\n",
    "    def predict(self, X):\n",
    "        pipeline = joblib.load('pipeline.pkl')\n",
    "        #print(pipeline)\n",
    "        return pipeline.predict(X)"
   ]
  },
  {
   "cell_type": "markdown",
   "id": "5980b5f8-c63d-46b9-9d09-f1f7506aa8b0",
   "metadata": {},
   "source": [
    "Recreate function from main file that is used for feature engineering in the pipeline."
   ]
  },
  {
   "cell_type": "code",
   "execution_count": 4,
   "id": "5d4e85ea-504d-40cd-bdb2-e21f73971bc2",
   "metadata": {},
   "outputs": [],
   "source": [
    "from sklearn.base import BaseEstimator, TransformerMixin\n",
    "import numpy as np\n",
    "\n",
    "class FeatureEngineering(BaseEstimator, TransformerMixin):\n",
    "    def fit(self, X, y=None):\n",
    "        return self\n",
    "    \n",
    "    def transform(self, X):\n",
    "        X = X.copy()\n",
    "        X[['Salary', 'PreviousSalary']] = X[['Salary', 'PreviousSalary']].map(lambda x: x.replace('K', '000') if isinstance(x, str) else x)\n",
    "        X[['Salary', 'PreviousSalary']] = X[['Salary', 'PreviousSalary']].astype(int)\n",
    "        X['Raise'] = (X['Salary'] / X['PreviousSalary']) - 1\n",
    "        X['ReviewDiff'] = X['SelfReview'] - X['SupervisorReview']\n",
    "        X['ReviewOverRaise'] = X['SelfReview'] / (X['Raise'] +.0001)\n",
    "        X['LongDist'] = np.where(X['Distance'].isin(['~20miles', '>30miles']), 1, 0)\n",
    "        X['HighStress'] = np.where(X['StressLevel'] > 3.5, 1, 0)\n",
    "        \n",
    "        return X\n",
    "    "
   ]
  },
  {
   "cell_type": "code",
   "execution_count": 5,
   "id": "54e28ee4-689c-4d7c-800e-3caeec538e29",
   "metadata": {},
   "outputs": [
    {
     "name": "stdout",
     "output_type": "stream",
     "text": [
      "              precision    recall  f1-score   support\n",
      "\n",
      "           0       0.94      0.88      0.91    319539\n",
      "           1       0.81      0.90      0.85    180461\n",
      "\n",
      "    accuracy                           0.89    500000\n",
      "   macro avg       0.87      0.89      0.88    500000\n",
      "weighted avg       0.89      0.89      0.89    500000\n",
      "\n"
     ]
    }
   ],
   "source": [
    "# In the second notebook\n",
    "import pandas as pd\n",
    "\n",
    "from sklearn.metrics import classification_report\n",
    "\n",
    "def production(X_path, y_path):\n",
    "    # load model\n",
    "    model = TestModel()\n",
    "    \n",
    "    # load data\n",
    "    df_X = pd.read_csv(X_path)\n",
    "\n",
    "    # make the changes if required \n",
    "    # -------------------------\n",
    "\n",
    "\n",
    "    # -------------------------\n",
    "    pred = model.predict(df_X)\n",
    "\n",
    "    df_y = pd.read_csv(y_path)['Left']\n",
    "    print(classification_report(df_y, pred))\n",
    "    \n",
    "\n",
    "production( \n",
    "    X_path='https://raw.githubusercontent.com/msaricaumbc/DS_data/master/ds602/final/employee_departure_dataset_X.csv',\n",
    "    y_path='https://raw.githubusercontent.com/msaricaumbc/DS_data/master/ds602/final/employee_departure_dataset_y.csv'\n",
    ")\n",
    "   "
   ]
  }
 ],
 "metadata": {
  "kernelspec": {
   "display_name": "Python 3 (ipykernel)",
   "language": "python",
   "name": "python3"
  },
  "language_info": {
   "codemirror_mode": {
    "name": "ipython",
    "version": 3
   },
   "file_extension": ".py",
   "mimetype": "text/x-python",
   "name": "python",
   "nbconvert_exporter": "python",
   "pygments_lexer": "ipython3",
   "version": "3.12.4"
  }
 },
 "nbformat": 4,
 "nbformat_minor": 5
}
