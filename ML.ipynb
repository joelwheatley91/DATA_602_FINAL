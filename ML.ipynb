{
 "cells": [
  {
   "cell_type": "code",
   "execution_count": 1,
   "id": "1d99bf4b-cf87-499c-b328-1ea2e40d8fba",
   "metadata": {},
   "outputs": [],
   "source": [
    "import pandas as pd\n",
    "import numpy as np\n",
    "from matplotlib import pyplot as plt\n",
    "\n",
    "X_train = pd.read_csv('https://raw.githubusercontent.com/msaricaumbc/DS_data/master/ds602/final/employee_departure_dataset_X.csv')#[:100000]\n",
    "y_train = pd.read_csv('https://raw.githubusercontent.com/msaricaumbc/DS_data/master/ds602/final/employee_departure_dataset_y.csv')#[:100000]"
   ]
  },
  {
   "cell_type": "code",
   "execution_count": 2,
   "id": "41a33d94-3878-40a1-b01d-1d5a55a01bf4",
   "metadata": {},
   "outputs": [],
   "source": [
    "from sklearn.base import BaseEstimator, TransformerMixin\n",
    "from sklearn.preprocessing import StandardScaler, OneHotEncoder\n",
    "from sklearn.impute import SimpleImputer\n",
    "from sklearn.compose import ColumnTransformer\n",
    "from sklearn.pipeline import Pipeline\n",
    "\n",
    "class FeatureEngineering(BaseEstimator, TransformerMixin):\n",
    "    def fit(self, X, y=None):\n",
    "        return self\n",
    "    \n",
    "    def transform(self, X):\n",
    "        X = X.copy()\n",
    "        X[['Salary', 'PreviousSalary']] = X[['Salary', 'PreviousSalary']].map(lambda x: x.replace('K', '000') if isinstance(x, str) else x)\n",
    "        X[['Salary', 'PreviousSalary']] = X[['Salary', 'PreviousSalary']].astype(int)\n",
    "        X['Raise'] = (X['Salary'] / X['PreviousSalary']) - 1\n",
    "        X['ReviewDiff'] = X['SelfReview'] - X['SupervisorReview']\n",
    "        X['ReviewOverRaise'] = X['SelfReview'] / (X['Raise'] +.0001)\n",
    "        return X"
   ]
  },
  {
   "cell_type": "code",
   "execution_count": 3,
   "id": "0f76f249-56b2-416e-8c63-5ff3ef7ba633",
   "metadata": {},
   "outputs": [],
   "source": [
    "num = ['SupervisorReview','SelfReview', 'Raise', 'Salary','ReviewOverRaise', 'PreviousSalary', 'StressLevel', 'ReviewDiff']\n",
    "cat = ['Gender', 'DepartmentCode', 'Distance']"
   ]
  },
  {
   "cell_type": "code",
   "execution_count": 4,
   "id": "b13af52e-c481-4453-886e-90b71127a877",
   "metadata": {},
   "outputs": [],
   "source": [
    "numeric_transformer = Pipeline(steps=[\n",
    "    (\"imputer\", SimpleImputer(strategy=\"median\")),\n",
    "    (\"scaler\", StandardScaler())\n",
    "])\n",
    "\n",
    "categorical_transformer = Pipeline(steps=[\n",
    "    (\"imputer\", SimpleImputer(strategy=\"most_frequent\")),\n",
    "    (\"onehot\", OneHotEncoder(handle_unknown=\"ignore\"))\n",
    "])\n",
    "\n",
    "preprocessor = ColumnTransformer(transformers=[\n",
    "    (\"num\", numeric_transformer, num),\n",
    "    (\"cat\", categorical_transformer, cat)\n",
    "])\n",
    "\n",
    "full_pipeline = Pipeline(steps=[\n",
    "    (\"feature_engineering\", FeatureEngineering()),\n",
    "    (\"preprocessing\", preprocessor)\n",
    "])"
   ]
  },
  {
   "cell_type": "code",
   "execution_count": 5,
   "id": "f9c6f58d-1e02-470f-8819-6b58b3d8a34d",
   "metadata": {},
   "outputs": [],
   "source": [
    "X_preprocessed = full_pipeline.fit_transform(X_train)"
   ]
  },
  {
   "cell_type": "code",
   "execution_count": 6,
   "id": "3cdb3b5d-0032-4c6b-9df5-9cbc99ae7217",
   "metadata": {},
   "outputs": [
    {
     "data": {
      "text/plain": [
       "(100000, 21)"
      ]
     },
     "execution_count": 6,
     "metadata": {},
     "output_type": "execute_result"
    }
   ],
   "source": [
    "X_preprocessed.shape"
   ]
  },
  {
   "cell_type": "code",
   "execution_count": 7,
   "id": "0f1eaf15-54c5-4c0e-8fb7-85367b4311bb",
   "metadata": {},
   "outputs": [],
   "source": [
    "def optimize_model(model_pipeline: Pipeline, \n",
    "                   X_train: pd.DataFrame, \n",
    "                   y_train: pd.DataFrame, \n",
    "                   param_space: dict, \n",
    "                   n_iter: int, \n",
    "                   cv_splits=5):\n",
    "    \"\"\"\n",
    "    This function takes in model pipeline, training set, hyperparameter space and number of iterations for RandomizedSearchCV.\n",
    "    It will then optimize the given model based on the provided hyperparameter set and selected scoring metric, and return the best model.\n",
    "    It does this by randomly selecting a set of hyperparameters from the provided hyperparameter space and evaluating the model.\n",
    "\n",
    "    Parameters:\n",
    "    model_pipeline (Pipeline): A scikit-learn Pipeline object\n",
    "    X_train (pd.DataFrame): The training feature matrix\n",
    "    y_train (pd.DataFrame): The response vector for training\n",
    "    param_space (dict): The hyperparameter space to search\n",
    "    n_iter (int): The number of iterations to search\n",
    "    cv_splits (int): The number of cross-validation splits\n",
    "\n",
    "    Returns:\n",
    "    RandomizedSearchCV: A RandomizedSearchCV object\n",
    "    Pipeline: The best model found by the RandomizedSearchCV\n",
    "    \"\"\"\n",
    "    # This is our Timeseries Cross Validator. If we had used the regular CV, it would have broken the temporal order -\n",
    "    # - which could have lead to data leakage.\n",
    "    #timeseries_split = TimeSeriesSplit(n_splits=cv_splits)\n",
    "        \n",
    "    random_search = RandomizedSearchCV(\n",
    "        estimator=model_pipeline,\n",
    "        param_distributions=param_space,\n",
    "        n_iter=n_iter,\n",
    "        scoring='f1', # we choose f1 score\n",
    "        #cv=timeseries_split, \n",
    "        random_state=42,\n",
    "        n_jobs=-1,\n",
    "        refit=True,\n",
    "    )\n",
    "    \n",
    "    random_search.fit(X_train, y_train)\n",
    "    best_model = random_search.best_estimator_\n",
    "    return random_search, best_model"
   ]
  },
  {
   "cell_type": "code",
   "execution_count": 8,
   "id": "b25e5eb7-2009-429f-8fa7-8640f634d356",
   "metadata": {},
   "outputs": [
    {
     "name": "stderr",
     "output_type": "stream",
     "text": [
      "C:\\Users\\joelw\\anaconda3\\Lib\\site-packages\\sklearn\\base.py:1151: DataConversionWarning: A column-vector y was passed when a 1d array was expected. Please change the shape of y to (n_samples,), for example using ravel().\n",
      "  return fit_method(estimator, *args, **kwargs)\n"
     ]
    },
    {
     "name": "stdout",
     "output_type": "stream",
     "text": [
      "CPU times: total: 5min 47s\n",
      "Wall time: 9min 30s\n"
     ]
    }
   ],
   "source": [
    "%%time\n",
    "from sklearn.ensemble import RandomForestClassifier\n",
    "from sklearn.model_selection import RandomizedSearchCV\n",
    "\n",
    "# this is our hyperparameter space for random forest\n",
    "param_space = {\n",
    "    'model__n_estimators': [600, 750, 900],\n",
    "    'model__max_depth': [15, 20, 25],\n",
    "    'model__min_samples_split': [6, 7, 8],\n",
    "    'model__min_samples_leaf': [4, 6, 8],\n",
    "    'model__bootstrap': [True],\n",
    "    'model__n_jobs': [-1],\n",
    "    'model__max_samples': [0.5, 0.6, 0.7, 0.8, 0.9],  \n",
    "    'model__max_features': [0.5, 0.6, 0.7, 0.8, 0.9, 1], \n",
    "    'model__random_state': [42],\n",
    "}\n",
    "\n",
    "random_forest_pipeline = Pipeline([\n",
    "    ('model',  RandomForestClassifier(n_jobs=-1, random_state=42))\n",
    "])\n",
    "\n",
    "random_search, best_model = optimize_model(random_forest_pipeline, X_preprocessed, y_train, param_space, 5)\n"
   ]
  },
  {
   "cell_type": "code",
   "execution_count": 9,
   "id": "7449e393-d6de-4c64-aa31-b423cad92fbf",
   "metadata": {},
   "outputs": [
    {
     "name": "stdout",
     "output_type": "stream",
     "text": [
      "Validation Best Score: 86.19%\n"
     ]
    }
   ],
   "source": [
    "print(f'Validation Best Score: {random_search.best_score_:.2%}')"
   ]
  },
  {
   "cell_type": "code",
   "execution_count": 10,
   "id": "fee561e8-2cf9-4244-be2f-e3f1f6ffe2b2",
   "metadata": {},
   "outputs": [
    {
     "data": {
      "text/html": [
       "<style>#sk-container-id-1 {color: black;}#sk-container-id-1 pre{padding: 0;}#sk-container-id-1 div.sk-toggleable {background-color: white;}#sk-container-id-1 label.sk-toggleable__label {cursor: pointer;display: block;width: 100%;margin-bottom: 0;padding: 0.3em;box-sizing: border-box;text-align: center;}#sk-container-id-1 label.sk-toggleable__label-arrow:before {content: \"▸\";float: left;margin-right: 0.25em;color: #696969;}#sk-container-id-1 label.sk-toggleable__label-arrow:hover:before {color: black;}#sk-container-id-1 div.sk-estimator:hover label.sk-toggleable__label-arrow:before {color: black;}#sk-container-id-1 div.sk-toggleable__content {max-height: 0;max-width: 0;overflow: hidden;text-align: left;background-color: #f0f8ff;}#sk-container-id-1 div.sk-toggleable__content pre {margin: 0.2em;color: black;border-radius: 0.25em;background-color: #f0f8ff;}#sk-container-id-1 input.sk-toggleable__control:checked~div.sk-toggleable__content {max-height: 200px;max-width: 100%;overflow: auto;}#sk-container-id-1 input.sk-toggleable__control:checked~label.sk-toggleable__label-arrow:before {content: \"▾\";}#sk-container-id-1 div.sk-estimator input.sk-toggleable__control:checked~label.sk-toggleable__label {background-color: #d4ebff;}#sk-container-id-1 div.sk-label input.sk-toggleable__control:checked~label.sk-toggleable__label {background-color: #d4ebff;}#sk-container-id-1 input.sk-hidden--visually {border: 0;clip: rect(1px 1px 1px 1px);clip: rect(1px, 1px, 1px, 1px);height: 1px;margin: -1px;overflow: hidden;padding: 0;position: absolute;width: 1px;}#sk-container-id-1 div.sk-estimator {font-family: monospace;background-color: #f0f8ff;border: 1px dotted black;border-radius: 0.25em;box-sizing: border-box;margin-bottom: 0.5em;}#sk-container-id-1 div.sk-estimator:hover {background-color: #d4ebff;}#sk-container-id-1 div.sk-parallel-item::after {content: \"\";width: 100%;border-bottom: 1px solid gray;flex-grow: 1;}#sk-container-id-1 div.sk-label:hover label.sk-toggleable__label {background-color: #d4ebff;}#sk-container-id-1 div.sk-serial::before {content: \"\";position: absolute;border-left: 1px solid gray;box-sizing: border-box;top: 0;bottom: 0;left: 50%;z-index: 0;}#sk-container-id-1 div.sk-serial {display: flex;flex-direction: column;align-items: center;background-color: white;padding-right: 0.2em;padding-left: 0.2em;position: relative;}#sk-container-id-1 div.sk-item {position: relative;z-index: 1;}#sk-container-id-1 div.sk-parallel {display: flex;align-items: stretch;justify-content: center;background-color: white;position: relative;}#sk-container-id-1 div.sk-item::before, #sk-container-id-1 div.sk-parallel-item::before {content: \"\";position: absolute;border-left: 1px solid gray;box-sizing: border-box;top: 0;bottom: 0;left: 50%;z-index: -1;}#sk-container-id-1 div.sk-parallel-item {display: flex;flex-direction: column;z-index: 1;position: relative;background-color: white;}#sk-container-id-1 div.sk-parallel-item:first-child::after {align-self: flex-end;width: 50%;}#sk-container-id-1 div.sk-parallel-item:last-child::after {align-self: flex-start;width: 50%;}#sk-container-id-1 div.sk-parallel-item:only-child::after {width: 0;}#sk-container-id-1 div.sk-dashed-wrapped {border: 1px dashed gray;margin: 0 0.4em 0.5em 0.4em;box-sizing: border-box;padding-bottom: 0.4em;background-color: white;}#sk-container-id-1 div.sk-label label {font-family: monospace;font-weight: bold;display: inline-block;line-height: 1.2em;}#sk-container-id-1 div.sk-label-container {text-align: center;}#sk-container-id-1 div.sk-container {/* jupyter's `normalize.less` sets `[hidden] { display: none; }` but bootstrap.min.css set `[hidden] { display: none !important; }` so we also need the `!important` here to be able to override the default hidden behavior on the sphinx rendered scikit-learn.org. See: https://github.com/scikit-learn/scikit-learn/issues/21755 */display: inline-block !important;position: relative;}#sk-container-id-1 div.sk-text-repr-fallback {display: none;}</style><div id=\"sk-container-id-1\" class=\"sk-top-container\"><div class=\"sk-text-repr-fallback\"><pre>RandomForestClassifier(max_depth=20, max_features=0.8, max_samples=0.7,\n",
       "                       min_samples_leaf=8, min_samples_split=8,\n",
       "                       n_estimators=750, n_jobs=-1, random_state=42)</pre><b>In a Jupyter environment, please rerun this cell to show the HTML representation or trust the notebook. <br />On GitHub, the HTML representation is unable to render, please try loading this page with nbviewer.org.</b></div><div class=\"sk-container\" hidden><div class=\"sk-item\"><div class=\"sk-estimator sk-toggleable\"><input class=\"sk-toggleable__control sk-hidden--visually\" id=\"sk-estimator-id-1\" type=\"checkbox\" checked><label for=\"sk-estimator-id-1\" class=\"sk-toggleable__label sk-toggleable__label-arrow\">RandomForestClassifier</label><div class=\"sk-toggleable__content\"><pre>RandomForestClassifier(max_depth=20, max_features=0.8, max_samples=0.7,\n",
       "                       min_samples_leaf=8, min_samples_split=8,\n",
       "                       n_estimators=750, n_jobs=-1, random_state=42)</pre></div></div></div></div></div>"
      ],
      "text/plain": [
       "RandomForestClassifier(max_depth=20, max_features=0.8, max_samples=0.7,\n",
       "                       min_samples_leaf=8, min_samples_split=8,\n",
       "                       n_estimators=750, n_jobs=-1, random_state=42)"
      ]
     },
     "execution_count": 10,
     "metadata": {},
     "output_type": "execute_result"
    }
   ],
   "source": [
    "random_search.best_estimator_[\"model\"]"
   ]
  },
  {
   "cell_type": "code",
   "execution_count": null,
   "id": "686bce65-5cc0-406f-b507-78af6cb39f05",
   "metadata": {},
   "outputs": [],
   "source": []
  }
 ],
 "metadata": {
  "kernelspec": {
   "display_name": "Python 3 (ipykernel)",
   "language": "python",
   "name": "python3"
  },
  "language_info": {
   "codemirror_mode": {
    "name": "ipython",
    "version": 3
   },
   "file_extension": ".py",
   "mimetype": "text/x-python",
   "name": "python",
   "nbconvert_exporter": "python",
   "pygments_lexer": "ipython3",
   "version": "3.12.4"
  }
 },
 "nbformat": 4,
 "nbformat_minor": 5
}
