{
 "cells": [
  {
   "cell_type": "code",
   "execution_count": null,
   "id": "ddf271e3-9d0c-491d-8a5b-d24727088f00",
   "metadata": {},
   "outputs": [],
   "source": [
    "import pandas as pd\n",
    "\n",
    "class SME():\n",
    "    \n",
    "    def __init__(self):\n",
    "        self.asked = 0\n",
    "        self.df = self.get()\n",
    "        \n",
    "    def get(self):\n",
    "        X_train = pd.read_csv('https://raw.githubusercontent.com/msaricaumbc/DS_data/master/ds602/final/employee_departure_dataset_X.csv')\n",
    "        y_train = pd.read_csv('https://raw.githubusercontent.com/msaricaumbc/DS_data/master/ds602/final/employee_departure_dataset_y.csv')\n",
    "\n",
    "        X_train['Left'] = y_train\n",
    "        return X_train\n",
    "    \n",
    "    def ask(self, valuedict):\n",
    "        self.asked += 1\n",
    "        #  print(self.asked)\n",
    "        \n",
    "        if self.asked > 500:\n",
    "            raise Exception(\"Sorry, you have asked enough\")\n",
    "\n",
    "        arr = []\n",
    "        for prop in valuedict:\n",
    "            val = valuedict[prop]\n",
    "\n",
    "            if val is None: \n",
    "                continue\n",
    "\n",
    "            val = f\"'{val}'\" if isinstance(val,str) else val\n",
    "            # print(prop, val)\n",
    "            arr.append(f'{prop} == {val}')\n",
    "\n",
    "            query = ' and '.join(arr)\n",
    "        result = self.df.query(query)\n",
    "\n",
    "        if len(result) == 0:\n",
    "            raise Exception(\"I don't know\")\n",
    "        \n",
    "        return (int)(result['Left'].mean())"
   ]
  },
  {
   "cell_type": "code",
   "execution_count": null,
   "id": "5b260f67-6062-4942-bdef-87493434caea",
   "metadata": {},
   "outputs": [],
   "source": [
    "sme = SME()"
   ]
  },
  {
   "cell_type": "markdown",
   "id": "4c3469f7-5e6d-4768-b0c2-e7d3c53c62f3",
   "metadata": {},
   "source": [
    "# INPUT ALL EDA ALLOWABLE HERE"
   ]
  },
  {
   "cell_type": "code",
   "execution_count": null,
   "id": "3d0185dc-4aaf-4b3e-9dd0-aeb981e6edbf",
   "metadata": {},
   "outputs": [],
   "source": []
  }
 ],
 "metadata": {
  "kernelspec": {
   "display_name": "Python 3 (ipykernel)",
   "language": "python",
   "name": "python3"
  },
  "language_info": {
   "codemirror_mode": {
    "name": "ipython",
    "version": 3
   },
   "file_extension": ".py",
   "mimetype": "text/x-python",
   "name": "python",
   "nbconvert_exporter": "python",
   "pygments_lexer": "ipython3",
   "version": "3.12.4"
  }
 },
 "nbformat": 4,
 "nbformat_minor": 5
}
