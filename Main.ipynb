{
 "cells": [
  {
   "cell_type": "code",
   "execution_count": 1,
   "id": "ddf271e3-9d0c-491d-8a5b-d24727088f00",
   "metadata": {},
   "outputs": [],
   "source": [
    "import pandas as pd\n",
    "import numpy as np\n",
    "\n",
    "class SME():\n",
    "    \n",
    "    def __init__(self):\n",
    "        self.asked = 0\n",
    "        self.df = self.get()\n",
    "        \n",
    "    def get(self):\n",
    "        X_train = pd.read_csv('https://raw.githubusercontent.com/msaricaumbc/DS_data/master/ds602/final/employee_departure_dataset_X.csv')\n",
    "        y_train = pd.read_csv('https://raw.githubusercontent.com/msaricaumbc/DS_data/master/ds602/final/employee_departure_dataset_y.csv')\n",
    "\n",
    "        X_train['Left'] = y_train\n",
    "        return X_train\n",
    "    \n",
    "    def ask(self, valuedict):\n",
    "        self.asked += 1\n",
    "        #  print(self.asked)\n",
    "        \n",
    "        if self.asked > 500:\n",
    "            raise Exception(\"Sorry, you have asked enough\")\n",
    "\n",
    "        arr = []\n",
    "        for prop in valuedict:\n",
    "            val = valuedict[prop]\n",
    "\n",
    "            if val is None: \n",
    "                continue\n",
    "\n",
    "            val = f\"'{val}'\" if isinstance(val,str) else val\n",
    "            # print(prop, val)\n",
    "            arr.append(f'{prop} == {val}')\n",
    "\n",
    "            query = ' and '.join(arr)\n",
    "        result = self.df.query(query)\n",
    "\n",
    "        if len(result) == 0:\n",
    "            raise Exception(\"I don't know\")\n",
    "        \n",
    "        return (int)(result['Left'].mean())"
   ]
  },
  {
   "cell_type": "code",
   "execution_count": 2,
   "id": "5b260f67-6062-4942-bdef-87493434caea",
   "metadata": {},
   "outputs": [],
   "source": [
    "sme = SME()"
   ]
  },
  {
   "cell_type": "markdown",
   "id": "4c3469f7-5e6d-4768-b0c2-e7d3c53c62f3",
   "metadata": {},
   "source": [
    "# INPUT ALL EDA ALLOWABLE HERE"
   ]
  },
  {
   "cell_type": "code",
   "execution_count": 4,
   "id": "3d0185dc-4aaf-4b3e-9dd0-aeb981e6edbf",
   "metadata": {},
   "outputs": [],
   "source": [
    "from sklearn.pipeline import Pipeline\n",
    "from sklearn.compose import ColumnTransformer\n",
    "from sklearn.decomposition import PCA\n",
    "from sklearn.preprocessing import StandardScaler, OneHotEncoder\n",
    "from sklearn.cluster import KMeans"
   ]
  },
  {
   "cell_type": "code",
   "execution_count": 5,
   "id": "2d70eb7e-9c47-4868-b9eb-df7f9e63f058",
   "metadata": {},
   "outputs": [],
   "source": [
    "n_clusters = 500\n",
    "\n",
    "sme.df['SelfReview'] = sme.df['SelfReview'].fillna(sme.df['SelfReview'].median())\n",
    "sme.df['SupervisorReview'] = sme.df['SupervisorReview'].fillna(sme.df['SupervisorReview'].median())\n",
    "sme.df[['Salary', 'PreviousSalary']] = sme.df[['Salary', 'PreviousSalary']].map(lambda x: x.replace('K', '000') if isinstance(x, str) else x)\n",
    "sme.df[['Salary', 'PreviousSalary']] = sme.df[['Salary', 'PreviousSalary']].astype(int)\n",
    "\n",
    "sme.df['Raise'] = (sme.df['Salary'] / sme.df['PreviousSalary']) - 1\n",
    "sme.df['ReviewDiff'] = sme.df['SelfReview'] - sme.df['SupervisorReview']\n",
    "sme.df['ReviewOverRaise'] = sme.df['SelfReview'] / (sme.df['Raise'] +.0001)\n",
    "\n",
    "sme.df['LongDist'] = np.where(sme.df['Distance'].isin(['~20miles', '>30miles']), 1, 0)\n",
    "\n",
    "sme.df['HighStress'] = np.where(sme.df['StressLevel'] > 3.5, 1, 0)\n",
    "\n",
    "\n",
    "num = ['HighStress', 'LongDist','Gender', 'SupervisorReview','SelfReview', 'Raise', 'Salary','ReviewOverRaise', 'PreviousSalary'] #, 'LongDist', ReviewOverRaise','ReviewDiff', 'StressLevel'\n",
    "cat = ['DepartmentCode']"
   ]
  },
  {
   "cell_type": "code",
   "execution_count": 6,
   "id": "2fd1f537-2956-4515-bddf-c4cc70c93a98",
   "metadata": {},
   "outputs": [],
   "source": [
    "featurepreprocessor = ColumnTransformer(\n",
    "    transformers=[\n",
    "        ('num', StandardScaler(), num)\n",
    "    ])\n",
    "preprocessor = Pipeline(steps=[\n",
    "    ('features', featurepreprocessor),\n",
    "    ('pca', PCA(n_components=.9)),#.9\n",
    "    ('kmeans', KMeans(n_clusters=n_clusters, random_state=42, n_init='auto'))\n",
    "    ])"
   ]
  },
  {
   "cell_type": "code",
   "execution_count": 7,
   "id": "6b8ab02e-11eb-403c-aa28-1fddb7c1b24a",
   "metadata": {},
   "outputs": [],
   "source": [
    "#X_dist = preprocessor.fit_transform(sme.df[num+cat])\n",
    "pre = featurepreprocessor.fit_transform(sme.df[num+cat])\n",
    "\n",
    "kmeans = KMeans(n_clusters = n_clusters, n_init='auto')\n",
    "\n",
    "X_dist = kmeans.fit_transform(pre)\n",
    "X_dist\n",
    "\n",
    "#What are the reporesentative points? (e.i the ones closest to each centroid)\n",
    "representative_idx = np.argmin(X_dist, axis=0)\n",
    "#representative_idx.shape\n",
    "\n",
    "#What do the reporesentative points look like?\n",
    "X_representative = sme.df.iloc[representative_idx]\n",
    "\n",
    "#Look up the leave/stay value of hte 500 representative points\n",
    "y_representative= []\n",
    "for i in representative_idx:\n",
    "    y_representative.append(sme.ask({'RecordId': i+100})) #All record Id's are 100 more than the index value\n",
    "\n",
    "#Propagate the label value to each point in the cluster.\n",
    "y_train_propagated = np.empty(len(sme.df), dtype=np.int32)\n",
    "for i in range(n_clusters):\n",
    "    y_train_propagated[kmeans.labels_ == i] = y_representative[i]"
   ]
  },
  {
   "cell_type": "code",
   "execution_count": 8,
   "id": "536ca729-9e41-4480-87bd-8aa8fcb5a58b",
   "metadata": {},
   "outputs": [],
   "source": [
    "X = pd.read_csv('https://raw.githubusercontent.com/msaricaumbc/DS_data/master/ds602/final/employee_departure_dataset_X.csv')\n",
    "y= y_train_propagated\n"
   ]
  },
  {
   "cell_type": "code",
   "execution_count": 9,
   "id": "21222c4a-3a92-466c-b184-304d7c246e05",
   "metadata": {},
   "outputs": [],
   "source": [
    "from sklearn.model_selection import train_test_split\n",
    "\n",
    "X_train, X_test, y_train, y_test = train_test_split(X, y, test_size=0.2, random_state=42)"
   ]
  },
  {
   "cell_type": "code",
   "execution_count": 71,
   "id": "7c9ceb98-a4ba-4fca-8583-ec4b9c6df22d",
   "metadata": {},
   "outputs": [],
   "source": [
    "\n",
    "y_ans = pd.read_csv('https://raw.githubusercontent.com/msaricaumbc/DS_data/master/ds602/final/employee_departure_dataset_y.csv')"
   ]
  },
  {
   "cell_type": "markdown",
   "id": "1ae44fcc-7ea5-4627-9e95-defd6359aa30",
   "metadata": {},
   "source": [
    "# Preprocessing for ML Learning Pipeline"
   ]
  },
  {
   "cell_type": "markdown",
   "id": "78050ce8-e84f-4916-aa89-188675483b8a",
   "metadata": {},
   "source": [
    "## Feature Engineering Pipeline"
   ]
  },
  {
   "cell_type": "code",
   "execution_count": 12,
   "id": "9389612d-93e1-473f-b171-47dccd7d5c2a",
   "metadata": {},
   "outputs": [],
   "source": [
    "from sklearn.base import BaseEstimator, TransformerMixin\n",
    "from sklearn.preprocessing import StandardScaler, OneHotEncoder\n",
    "from sklearn.impute import SimpleImputer\n",
    "from sklearn.compose import ColumnTransformer\n",
    "from sklearn.pipeline import Pipeline\n",
    "\n",
    "class FeatureEngineering(BaseEstimator, TransformerMixin):\n",
    "    def fit(self, X, y=None):\n",
    "        return self\n",
    "    \n",
    "    def transform(self, X):\n",
    "        X = X.copy()\n",
    "        X[['Salary', 'PreviousSalary']] = X[['Salary', 'PreviousSalary']].map(lambda x: x.replace('K', '000') if isinstance(x, str) else x)\n",
    "        X[['Salary', 'PreviousSalary']] = X[['Salary', 'PreviousSalary']].astype(int)\n",
    "        X['Raise'] = (X['Salary'] / X['PreviousSalary']) - 1\n",
    "        X['ReviewDiff'] = X['SelfReview'] - X['SupervisorReview']\n",
    "        X['ReviewOverRaise'] = X['SelfReview'] / (X['Raise'] +.0001)\n",
    "        X['LongDist'] = np.where(X['Distance'].isin(['~20miles', '>30miles']), 1, 0)\n",
    "        X['HighStress'] = np.where(X['StressLevel'] > 3.5, 1, 0)\n",
    "        \n",
    "        return X"
   ]
  },
  {
   "cell_type": "markdown",
   "id": "05d95063-24a3-48ba-92c7-f3415b7435c6",
   "metadata": {},
   "source": [
    "## Rest of Preprocessing Pipeline (categorical and numerical handling)"
   ]
  },
  {
   "cell_type": "code",
   "execution_count": 13,
   "id": "bc4df986-4d3b-4527-94a2-57f275e998aa",
   "metadata": {},
   "outputs": [],
   "source": [
    "numeric_transformer = Pipeline(steps=[\n",
    "    (\"imputer\", SimpleImputer(strategy=\"median\")),\n",
    "    (\"scaler\", StandardScaler())\n",
    "])\n",
    "\n",
    "categorical_transformer = Pipeline(steps=[\n",
    "    (\"imputer\", SimpleImputer(strategy=\"most_frequent\")),\n",
    "    (\"onehot\", OneHotEncoder(handle_unknown=\"ignore\"))\n",
    "])\n",
    "\n",
    "preprocessor = ColumnTransformer(transformers=[\n",
    "    (\"num\", numeric_transformer, num),\n",
    "    (\"cat\", categorical_transformer, cat)\n",
    "])\n",
    "\n",
    "full_pipeline = Pipeline(steps=[\n",
    "    (\"feature_engineering\", FeatureEngineering()),\n",
    "    (\"preprocessing\", preprocessor)\n",
    "])"
   ]
  },
  {
   "cell_type": "markdown",
   "id": "d04e040e-d8f3-4468-afa1-eb967ccdf7f8",
   "metadata": {},
   "source": [
    "## List Out Numerical, Catagorical Features"
   ]
  },
  {
   "cell_type": "code",
   "execution_count": 14,
   "id": "7e0db0b3-8169-4e57-8983-696eb0cbbf2b",
   "metadata": {},
   "outputs": [],
   "source": [
    "num = ['SupervisorReview',\n",
    "       'SelfReview', \n",
    "       'Raise', \n",
    "       'Salary',\n",
    "       'ReviewOverRaise', \n",
    "       'PreviousSalary', \n",
    "       'StressLevel', \n",
    "       'ReviewDiff']\n",
    "cat = ['Gender', \n",
    "       'DepartmentCode', \n",
    "       'Distance']"
   ]
  },
  {
   "cell_type": "markdown",
   "id": "c57af2b3-53e6-4afc-b9d2-142eb53e0cf5",
   "metadata": {},
   "source": [
    "## Fit Preprocessing Pipeline to training data"
   ]
  },
  {
   "cell_type": "code",
   "execution_count": 15,
   "id": "db581370-028a-4e84-9f89-605066364bd3",
   "metadata": {},
   "outputs": [],
   "source": [
    "X_preprocessed = full_pipeline.fit_transform(X_train)\n",
    "X_preprocessed_use = X_preprocessed"
   ]
  },
  {
   "cell_type": "code",
   "execution_count": 16,
   "id": "4c6af167-7ed8-4456-be1a-2326145fd628",
   "metadata": {},
   "outputs": [],
   "source": [
    "def optimize_model(model_pipeline: Pipeline, \n",
    "                   X_train: pd.DataFrame, \n",
    "                   y_train: pd.DataFrame, \n",
    "                   param_space: dict, \n",
    "                   n_iter: int, \n",
    "                   cv_splits=5):\n",
    "    \"\"\"\n",
    "    This function takes in model pipeline, training set, hyperparameter space and number of iterations for RandomizedSearchCV.\n",
    "    It will then optimize the given model based on the provided hyperparameter set and selected scoring metric, and return the best model.\n",
    "    It does this by randomly selecting a set of hyperparameters from the provided hyperparameter space and evaluating the model.\n",
    "\n",
    "    Parameters:\n",
    "    model_pipeline (Pipeline): A scikit-learn Pipeline object\n",
    "    X_train (pd.DataFrame): The training feature matrix\n",
    "    y_train (pd.DataFrame): The response vector for training\n",
    "    param_space (dict): The hyperparameter space to search\n",
    "    n_iter (int): The number of iterations to search\n",
    "    cv_splits (int): The number of cross-validation splits\n",
    "\n",
    "    Returns:\n",
    "    RandomizedSearchCV: A RandomizedSearchCV object\n",
    "    Pipeline: The best model found by the RandomizedSearchCV\n",
    "    \"\"\"\n",
    "        \n",
    "    random_search = RandomizedSearchCV(\n",
    "        estimator=model_pipeline,\n",
    "        param_distributions=param_space,\n",
    "        n_iter=n_iter,\n",
    "        scoring='recall', # we choose f1 score\n",
    "        #cv=timeseries_split, \n",
    "        random_state=42,\n",
    "        n_jobs=-1,\n",
    "        refit=True,\n",
    "    )\n",
    "    \n",
    "    random_search.fit(X_train, y_train)\n",
    "    best_model = random_search.best_estimator_\n",
    "    return random_search, best_model"
   ]
  },
  {
   "cell_type": "code",
   "execution_count": 17,
   "id": "478111b5-080b-4fbd-84c2-eea167de790e",
   "metadata": {},
   "outputs": [
    {
     "name": "stdout",
     "output_type": "stream",
     "text": [
      "CPU times: total: 31.2 s\n",
      "Wall time: 47.7 s\n"
     ]
    }
   ],
   "source": [
    "%%time\n",
    "from sklearn.ensemble import RandomForestClassifier\n",
    "from sklearn.model_selection import RandomizedSearchCV\n",
    "\n",
    "# this is our hyperparameter space for random forest\n",
    "param_space = {\n",
    "    'model__n_estimators': [100, 600, 750, 900],\n",
    "    'model__max_depth': [10, 15, 20, 25],\n",
    "    'model__min_samples_split': [6, 7, 8, 15],\n",
    "    'model__min_samples_leaf': [4, 6, 8, 15],\n",
    "    'model__bootstrap': [True],\n",
    "    'model__n_jobs': [-1],\n",
    "    'model__max_samples': [0.5, 0.6, 0.7, 0.8, 0.9],  \n",
    "    'model__max_features': [0.5, 0.6, 0.7, 0.8, 0.9, 1], \n",
    "    'model__random_state': [42],\n",
    "}\n",
    "\n",
    "random_forest_pipeline = Pipeline([\n",
    "    ('model',  RandomForestClassifier(random_state=42))#n_jobs=-1, \n",
    "])\n",
    "\n",
    "random_search, best_model = optimize_model(random_forest_pipeline, X_preprocessed_use[:10000], y_train[:10000], param_space, 5)"
   ]
  },
  {
   "cell_type": "code",
   "execution_count": 18,
   "id": "85811cf7-bdfa-4c7f-bc3c-7e2402e8ef71",
   "metadata": {},
   "outputs": [
    {
     "name": "stdout",
     "output_type": "stream",
     "text": [
      "Validation Best Score: 91.59%\n"
     ]
    }
   ],
   "source": [
    "print(f'Validation Best Score: {random_search.best_score_:.2%}')"
   ]
  },
  {
   "cell_type": "code",
   "execution_count": 61,
   "id": "b2fc4b49-359a-41b4-81b7-8bf763b68ab3",
   "metadata": {},
   "outputs": [
    {
     "data": {
      "text/html": [
       "<style>#sk-container-id-3 {color: black;}#sk-container-id-3 pre{padding: 0;}#sk-container-id-3 div.sk-toggleable {background-color: white;}#sk-container-id-3 label.sk-toggleable__label {cursor: pointer;display: block;width: 100%;margin-bottom: 0;padding: 0.3em;box-sizing: border-box;text-align: center;}#sk-container-id-3 label.sk-toggleable__label-arrow:before {content: \"▸\";float: left;margin-right: 0.25em;color: #696969;}#sk-container-id-3 label.sk-toggleable__label-arrow:hover:before {color: black;}#sk-container-id-3 div.sk-estimator:hover label.sk-toggleable__label-arrow:before {color: black;}#sk-container-id-3 div.sk-toggleable__content {max-height: 0;max-width: 0;overflow: hidden;text-align: left;background-color: #f0f8ff;}#sk-container-id-3 div.sk-toggleable__content pre {margin: 0.2em;color: black;border-radius: 0.25em;background-color: #f0f8ff;}#sk-container-id-3 input.sk-toggleable__control:checked~div.sk-toggleable__content {max-height: 200px;max-width: 100%;overflow: auto;}#sk-container-id-3 input.sk-toggleable__control:checked~label.sk-toggleable__label-arrow:before {content: \"▾\";}#sk-container-id-3 div.sk-estimator input.sk-toggleable__control:checked~label.sk-toggleable__label {background-color: #d4ebff;}#sk-container-id-3 div.sk-label input.sk-toggleable__control:checked~label.sk-toggleable__label {background-color: #d4ebff;}#sk-container-id-3 input.sk-hidden--visually {border: 0;clip: rect(1px 1px 1px 1px);clip: rect(1px, 1px, 1px, 1px);height: 1px;margin: -1px;overflow: hidden;padding: 0;position: absolute;width: 1px;}#sk-container-id-3 div.sk-estimator {font-family: monospace;background-color: #f0f8ff;border: 1px dotted black;border-radius: 0.25em;box-sizing: border-box;margin-bottom: 0.5em;}#sk-container-id-3 div.sk-estimator:hover {background-color: #d4ebff;}#sk-container-id-3 div.sk-parallel-item::after {content: \"\";width: 100%;border-bottom: 1px solid gray;flex-grow: 1;}#sk-container-id-3 div.sk-label:hover label.sk-toggleable__label {background-color: #d4ebff;}#sk-container-id-3 div.sk-serial::before {content: \"\";position: absolute;border-left: 1px solid gray;box-sizing: border-box;top: 0;bottom: 0;left: 50%;z-index: 0;}#sk-container-id-3 div.sk-serial {display: flex;flex-direction: column;align-items: center;background-color: white;padding-right: 0.2em;padding-left: 0.2em;position: relative;}#sk-container-id-3 div.sk-item {position: relative;z-index: 1;}#sk-container-id-3 div.sk-parallel {display: flex;align-items: stretch;justify-content: center;background-color: white;position: relative;}#sk-container-id-3 div.sk-item::before, #sk-container-id-3 div.sk-parallel-item::before {content: \"\";position: absolute;border-left: 1px solid gray;box-sizing: border-box;top: 0;bottom: 0;left: 50%;z-index: -1;}#sk-container-id-3 div.sk-parallel-item {display: flex;flex-direction: column;z-index: 1;position: relative;background-color: white;}#sk-container-id-3 div.sk-parallel-item:first-child::after {align-self: flex-end;width: 50%;}#sk-container-id-3 div.sk-parallel-item:last-child::after {align-self: flex-start;width: 50%;}#sk-container-id-3 div.sk-parallel-item:only-child::after {width: 0;}#sk-container-id-3 div.sk-dashed-wrapped {border: 1px dashed gray;margin: 0 0.4em 0.5em 0.4em;box-sizing: border-box;padding-bottom: 0.4em;background-color: white;}#sk-container-id-3 div.sk-label label {font-family: monospace;font-weight: bold;display: inline-block;line-height: 1.2em;}#sk-container-id-3 div.sk-label-container {text-align: center;}#sk-container-id-3 div.sk-container {/* jupyter's `normalize.less` sets `[hidden] { display: none; }` but bootstrap.min.css set `[hidden] { display: none !important; }` so we also need the `!important` here to be able to override the default hidden behavior on the sphinx rendered scikit-learn.org. See: https://github.com/scikit-learn/scikit-learn/issues/21755 */display: inline-block !important;position: relative;}#sk-container-id-3 div.sk-text-repr-fallback {display: none;}</style><div id=\"sk-container-id-3\" class=\"sk-top-container\"><div class=\"sk-text-repr-fallback\"><pre>Pipeline(steps=[(&#x27;model&#x27;,\n",
       "                 RandomForestClassifier(max_depth=20, max_features=0.9,\n",
       "                                        max_samples=0.9, min_samples_leaf=4,\n",
       "                                        min_samples_split=15, n_estimators=750,\n",
       "                                        n_jobs=-1, random_state=42))])</pre><b>In a Jupyter environment, please rerun this cell to show the HTML representation or trust the notebook. <br />On GitHub, the HTML representation is unable to render, please try loading this page with nbviewer.org.</b></div><div class=\"sk-container\" hidden><div class=\"sk-item sk-dashed-wrapped\"><div class=\"sk-label-container\"><div class=\"sk-label sk-toggleable\"><input class=\"sk-toggleable__control sk-hidden--visually\" id=\"sk-estimator-id-14\" type=\"checkbox\" ><label for=\"sk-estimator-id-14\" class=\"sk-toggleable__label sk-toggleable__label-arrow\">Pipeline</label><div class=\"sk-toggleable__content\"><pre>Pipeline(steps=[(&#x27;model&#x27;,\n",
       "                 RandomForestClassifier(max_depth=20, max_features=0.9,\n",
       "                                        max_samples=0.9, min_samples_leaf=4,\n",
       "                                        min_samples_split=15, n_estimators=750,\n",
       "                                        n_jobs=-1, random_state=42))])</pre></div></div></div><div class=\"sk-serial\"><div class=\"sk-item\"><div class=\"sk-estimator sk-toggleable\"><input class=\"sk-toggleable__control sk-hidden--visually\" id=\"sk-estimator-id-15\" type=\"checkbox\" ><label for=\"sk-estimator-id-15\" class=\"sk-toggleable__label sk-toggleable__label-arrow\">RandomForestClassifier</label><div class=\"sk-toggleable__content\"><pre>RandomForestClassifier(max_depth=20, max_features=0.9, max_samples=0.9,\n",
       "                       min_samples_leaf=4, min_samples_split=15,\n",
       "                       n_estimators=750, n_jobs=-1, random_state=42)</pre></div></div></div></div></div></div></div>"
      ],
      "text/plain": [
       "Pipeline(steps=[('model',\n",
       "                 RandomForestClassifier(max_depth=20, max_features=0.9,\n",
       "                                        max_samples=0.9, min_samples_leaf=4,\n",
       "                                        min_samples_split=15, n_estimators=750,\n",
       "                                        n_jobs=-1, random_state=42))])"
      ]
     },
     "execution_count": 61,
     "metadata": {},
     "output_type": "execute_result"
    }
   ],
   "source": [
    "random_search.best_estimator_"
   ]
  },
  {
   "cell_type": "code",
   "execution_count": null,
   "id": "107c8650-7054-4bc2-805f-9b3b551465a6",
   "metadata": {},
   "outputs": [],
   "source": []
  },
  {
   "cell_type": "code",
   "execution_count": null,
   "id": "22e69bd8-a943-42e0-b700-836e6742192b",
   "metadata": {},
   "outputs": [],
   "source": []
  },
  {
   "cell_type": "code",
   "execution_count": 63,
   "id": "74904484-91c6-4bd3-81c3-321c75e195f6",
   "metadata": {},
   "outputs": [],
   "source": [
    "p = Pipeline([('full', full_pipeline),\n",
    "              ('clf', RandomForestClassifier(max_depth=20, max_features=0.9, max_samples=0.9,\n",
    "                       min_samples_leaf=4, min_samples_split=15,\n",
    "                       n_estimators=750, n_jobs=-1, random_state=42))\n",
    "             ])"
   ]
  },
  {
   "cell_type": "code",
   "execution_count": 65,
   "id": "f2a1d1b0-8b88-4ab2-9b54-14e1a7d2a083",
   "metadata": {},
   "outputs": [
    {
     "data": {
      "text/html": [
       "<style>#sk-container-id-4 {color: black;}#sk-container-id-4 pre{padding: 0;}#sk-container-id-4 div.sk-toggleable {background-color: white;}#sk-container-id-4 label.sk-toggleable__label {cursor: pointer;display: block;width: 100%;margin-bottom: 0;padding: 0.3em;box-sizing: border-box;text-align: center;}#sk-container-id-4 label.sk-toggleable__label-arrow:before {content: \"▸\";float: left;margin-right: 0.25em;color: #696969;}#sk-container-id-4 label.sk-toggleable__label-arrow:hover:before {color: black;}#sk-container-id-4 div.sk-estimator:hover label.sk-toggleable__label-arrow:before {color: black;}#sk-container-id-4 div.sk-toggleable__content {max-height: 0;max-width: 0;overflow: hidden;text-align: left;background-color: #f0f8ff;}#sk-container-id-4 div.sk-toggleable__content pre {margin: 0.2em;color: black;border-radius: 0.25em;background-color: #f0f8ff;}#sk-container-id-4 input.sk-toggleable__control:checked~div.sk-toggleable__content {max-height: 200px;max-width: 100%;overflow: auto;}#sk-container-id-4 input.sk-toggleable__control:checked~label.sk-toggleable__label-arrow:before {content: \"▾\";}#sk-container-id-4 div.sk-estimator input.sk-toggleable__control:checked~label.sk-toggleable__label {background-color: #d4ebff;}#sk-container-id-4 div.sk-label input.sk-toggleable__control:checked~label.sk-toggleable__label {background-color: #d4ebff;}#sk-container-id-4 input.sk-hidden--visually {border: 0;clip: rect(1px 1px 1px 1px);clip: rect(1px, 1px, 1px, 1px);height: 1px;margin: -1px;overflow: hidden;padding: 0;position: absolute;width: 1px;}#sk-container-id-4 div.sk-estimator {font-family: monospace;background-color: #f0f8ff;border: 1px dotted black;border-radius: 0.25em;box-sizing: border-box;margin-bottom: 0.5em;}#sk-container-id-4 div.sk-estimator:hover {background-color: #d4ebff;}#sk-container-id-4 div.sk-parallel-item::after {content: \"\";width: 100%;border-bottom: 1px solid gray;flex-grow: 1;}#sk-container-id-4 div.sk-label:hover label.sk-toggleable__label {background-color: #d4ebff;}#sk-container-id-4 div.sk-serial::before {content: \"\";position: absolute;border-left: 1px solid gray;box-sizing: border-box;top: 0;bottom: 0;left: 50%;z-index: 0;}#sk-container-id-4 div.sk-serial {display: flex;flex-direction: column;align-items: center;background-color: white;padding-right: 0.2em;padding-left: 0.2em;position: relative;}#sk-container-id-4 div.sk-item {position: relative;z-index: 1;}#sk-container-id-4 div.sk-parallel {display: flex;align-items: stretch;justify-content: center;background-color: white;position: relative;}#sk-container-id-4 div.sk-item::before, #sk-container-id-4 div.sk-parallel-item::before {content: \"\";position: absolute;border-left: 1px solid gray;box-sizing: border-box;top: 0;bottom: 0;left: 50%;z-index: -1;}#sk-container-id-4 div.sk-parallel-item {display: flex;flex-direction: column;z-index: 1;position: relative;background-color: white;}#sk-container-id-4 div.sk-parallel-item:first-child::after {align-self: flex-end;width: 50%;}#sk-container-id-4 div.sk-parallel-item:last-child::after {align-self: flex-start;width: 50%;}#sk-container-id-4 div.sk-parallel-item:only-child::after {width: 0;}#sk-container-id-4 div.sk-dashed-wrapped {border: 1px dashed gray;margin: 0 0.4em 0.5em 0.4em;box-sizing: border-box;padding-bottom: 0.4em;background-color: white;}#sk-container-id-4 div.sk-label label {font-family: monospace;font-weight: bold;display: inline-block;line-height: 1.2em;}#sk-container-id-4 div.sk-label-container {text-align: center;}#sk-container-id-4 div.sk-container {/* jupyter's `normalize.less` sets `[hidden] { display: none; }` but bootstrap.min.css set `[hidden] { display: none !important; }` so we also need the `!important` here to be able to override the default hidden behavior on the sphinx rendered scikit-learn.org. See: https://github.com/scikit-learn/scikit-learn/issues/21755 */display: inline-block !important;position: relative;}#sk-container-id-4 div.sk-text-repr-fallback {display: none;}</style><div id=\"sk-container-id-4\" class=\"sk-top-container\"><div class=\"sk-text-repr-fallback\"><pre>Pipeline(steps=[(&#x27;full&#x27;,\n",
       "                 Pipeline(steps=[(&#x27;feature_engineering&#x27;, FeatureEngineering()),\n",
       "                                 (&#x27;preprocessing&#x27;,\n",
       "                                  ColumnTransformer(transformers=[(&#x27;num&#x27;,\n",
       "                                                                   Pipeline(steps=[(&#x27;imputer&#x27;,\n",
       "                                                                                    SimpleImputer(strategy=&#x27;median&#x27;)),\n",
       "                                                                                   (&#x27;scaler&#x27;,\n",
       "                                                                                    StandardScaler())]),\n",
       "                                                                   [&#x27;HighStress&#x27;,\n",
       "                                                                    &#x27;LongDist&#x27;,\n",
       "                                                                    &#x27;Gender&#x27;,\n",
       "                                                                    &#x27;SupervisorReview&#x27;,\n",
       "                                                                    &#x27;SelfReview&#x27;,\n",
       "                                                                    &#x27;Raise&#x27;,\n",
       "                                                                    &#x27;Salary&#x27;,\n",
       "                                                                    &#x27;ReviewOverRaise&#x27;,\n",
       "                                                                    &#x27;PreviousSalary&#x27;]),\n",
       "                                                                  (&#x27;cat&#x27;,\n",
       "                                                                   Pipeline(steps=[(&#x27;imputer&#x27;,\n",
       "                                                                                    SimpleImputer(strategy=&#x27;most_frequent&#x27;)),\n",
       "                                                                                   (&#x27;onehot&#x27;,\n",
       "                                                                                    OneHotEncoder(handle_unknown=&#x27;ignore&#x27;))]),\n",
       "                                                                   [&#x27;DepartmentCode&#x27;])]))])),\n",
       "                (&#x27;clf&#x27;,\n",
       "                 RandomForestClassifier(max_depth=20, max_features=0.9,\n",
       "                                        max_samples=0.9, min_samples_leaf=4,\n",
       "                                        min_samples_split=15, n_estimators=750,\n",
       "                                        n_jobs=-1, random_state=42))])</pre><b>In a Jupyter environment, please rerun this cell to show the HTML representation or trust the notebook. <br />On GitHub, the HTML representation is unable to render, please try loading this page with nbviewer.org.</b></div><div class=\"sk-container\" hidden><div class=\"sk-item sk-dashed-wrapped\"><div class=\"sk-label-container\"><div class=\"sk-label sk-toggleable\"><input class=\"sk-toggleable__control sk-hidden--visually\" id=\"sk-estimator-id-16\" type=\"checkbox\" ><label for=\"sk-estimator-id-16\" class=\"sk-toggleable__label sk-toggleable__label-arrow\">Pipeline</label><div class=\"sk-toggleable__content\"><pre>Pipeline(steps=[(&#x27;full&#x27;,\n",
       "                 Pipeline(steps=[(&#x27;feature_engineering&#x27;, FeatureEngineering()),\n",
       "                                 (&#x27;preprocessing&#x27;,\n",
       "                                  ColumnTransformer(transformers=[(&#x27;num&#x27;,\n",
       "                                                                   Pipeline(steps=[(&#x27;imputer&#x27;,\n",
       "                                                                                    SimpleImputer(strategy=&#x27;median&#x27;)),\n",
       "                                                                                   (&#x27;scaler&#x27;,\n",
       "                                                                                    StandardScaler())]),\n",
       "                                                                   [&#x27;HighStress&#x27;,\n",
       "                                                                    &#x27;LongDist&#x27;,\n",
       "                                                                    &#x27;Gender&#x27;,\n",
       "                                                                    &#x27;SupervisorReview&#x27;,\n",
       "                                                                    &#x27;SelfReview&#x27;,\n",
       "                                                                    &#x27;Raise&#x27;,\n",
       "                                                                    &#x27;Salary&#x27;,\n",
       "                                                                    &#x27;ReviewOverRaise&#x27;,\n",
       "                                                                    &#x27;PreviousSalary&#x27;]),\n",
       "                                                                  (&#x27;cat&#x27;,\n",
       "                                                                   Pipeline(steps=[(&#x27;imputer&#x27;,\n",
       "                                                                                    SimpleImputer(strategy=&#x27;most_frequent&#x27;)),\n",
       "                                                                                   (&#x27;onehot&#x27;,\n",
       "                                                                                    OneHotEncoder(handle_unknown=&#x27;ignore&#x27;))]),\n",
       "                                                                   [&#x27;DepartmentCode&#x27;])]))])),\n",
       "                (&#x27;clf&#x27;,\n",
       "                 RandomForestClassifier(max_depth=20, max_features=0.9,\n",
       "                                        max_samples=0.9, min_samples_leaf=4,\n",
       "                                        min_samples_split=15, n_estimators=750,\n",
       "                                        n_jobs=-1, random_state=42))])</pre></div></div></div><div class=\"sk-serial\"><div class=\"sk-item\"><div class=\"sk-label-container\"><div class=\"sk-label sk-toggleable\"><input class=\"sk-toggleable__control sk-hidden--visually\" id=\"sk-estimator-id-17\" type=\"checkbox\" ><label for=\"sk-estimator-id-17\" class=\"sk-toggleable__label sk-toggleable__label-arrow\">full: Pipeline</label><div class=\"sk-toggleable__content\"><pre>Pipeline(steps=[(&#x27;feature_engineering&#x27;, FeatureEngineering()),\n",
       "                (&#x27;preprocessing&#x27;,\n",
       "                 ColumnTransformer(transformers=[(&#x27;num&#x27;,\n",
       "                                                  Pipeline(steps=[(&#x27;imputer&#x27;,\n",
       "                                                                   SimpleImputer(strategy=&#x27;median&#x27;)),\n",
       "                                                                  (&#x27;scaler&#x27;,\n",
       "                                                                   StandardScaler())]),\n",
       "                                                  [&#x27;HighStress&#x27;, &#x27;LongDist&#x27;,\n",
       "                                                   &#x27;Gender&#x27;, &#x27;SupervisorReview&#x27;,\n",
       "                                                   &#x27;SelfReview&#x27;, &#x27;Raise&#x27;,\n",
       "                                                   &#x27;Salary&#x27;, &#x27;ReviewOverRaise&#x27;,\n",
       "                                                   &#x27;PreviousSalary&#x27;]),\n",
       "                                                 (&#x27;cat&#x27;,\n",
       "                                                  Pipeline(steps=[(&#x27;imputer&#x27;,\n",
       "                                                                   SimpleImputer(strategy=&#x27;most_frequent&#x27;)),\n",
       "                                                                  (&#x27;onehot&#x27;,\n",
       "                                                                   OneHotEncoder(handle_unknown=&#x27;ignore&#x27;))]),\n",
       "                                                  [&#x27;DepartmentCode&#x27;])]))])</pre></div></div></div><div class=\"sk-serial\"><div class=\"sk-item\"><div class=\"sk-estimator sk-toggleable\"><input class=\"sk-toggleable__control sk-hidden--visually\" id=\"sk-estimator-id-18\" type=\"checkbox\" ><label for=\"sk-estimator-id-18\" class=\"sk-toggleable__label sk-toggleable__label-arrow\">FeatureEngineering</label><div class=\"sk-toggleable__content\"><pre>FeatureEngineering()</pre></div></div></div><div class=\"sk-item sk-dashed-wrapped\"><div class=\"sk-label-container\"><div class=\"sk-label sk-toggleable\"><input class=\"sk-toggleable__control sk-hidden--visually\" id=\"sk-estimator-id-19\" type=\"checkbox\" ><label for=\"sk-estimator-id-19\" class=\"sk-toggleable__label sk-toggleable__label-arrow\">preprocessing: ColumnTransformer</label><div class=\"sk-toggleable__content\"><pre>ColumnTransformer(transformers=[(&#x27;num&#x27;,\n",
       "                                 Pipeline(steps=[(&#x27;imputer&#x27;,\n",
       "                                                  SimpleImputer(strategy=&#x27;median&#x27;)),\n",
       "                                                 (&#x27;scaler&#x27;, StandardScaler())]),\n",
       "                                 [&#x27;HighStress&#x27;, &#x27;LongDist&#x27;, &#x27;Gender&#x27;,\n",
       "                                  &#x27;SupervisorReview&#x27;, &#x27;SelfReview&#x27;, &#x27;Raise&#x27;,\n",
       "                                  &#x27;Salary&#x27;, &#x27;ReviewOverRaise&#x27;,\n",
       "                                  &#x27;PreviousSalary&#x27;]),\n",
       "                                (&#x27;cat&#x27;,\n",
       "                                 Pipeline(steps=[(&#x27;imputer&#x27;,\n",
       "                                                  SimpleImputer(strategy=&#x27;most_frequent&#x27;)),\n",
       "                                                 (&#x27;onehot&#x27;,\n",
       "                                                  OneHotEncoder(handle_unknown=&#x27;ignore&#x27;))]),\n",
       "                                 [&#x27;DepartmentCode&#x27;])])</pre></div></div></div><div class=\"sk-parallel\"><div class=\"sk-parallel-item\"><div class=\"sk-item\"><div class=\"sk-label-container\"><div class=\"sk-label sk-toggleable\"><input class=\"sk-toggleable__control sk-hidden--visually\" id=\"sk-estimator-id-20\" type=\"checkbox\" ><label for=\"sk-estimator-id-20\" class=\"sk-toggleable__label sk-toggleable__label-arrow\">num</label><div class=\"sk-toggleable__content\"><pre>[&#x27;HighStress&#x27;, &#x27;LongDist&#x27;, &#x27;Gender&#x27;, &#x27;SupervisorReview&#x27;, &#x27;SelfReview&#x27;, &#x27;Raise&#x27;, &#x27;Salary&#x27;, &#x27;ReviewOverRaise&#x27;, &#x27;PreviousSalary&#x27;]</pre></div></div></div><div class=\"sk-serial\"><div class=\"sk-item\"><div class=\"sk-serial\"><div class=\"sk-item\"><div class=\"sk-estimator sk-toggleable\"><input class=\"sk-toggleable__control sk-hidden--visually\" id=\"sk-estimator-id-21\" type=\"checkbox\" ><label for=\"sk-estimator-id-21\" class=\"sk-toggleable__label sk-toggleable__label-arrow\">SimpleImputer</label><div class=\"sk-toggleable__content\"><pre>SimpleImputer(strategy=&#x27;median&#x27;)</pre></div></div></div><div class=\"sk-item\"><div class=\"sk-estimator sk-toggleable\"><input class=\"sk-toggleable__control sk-hidden--visually\" id=\"sk-estimator-id-22\" type=\"checkbox\" ><label for=\"sk-estimator-id-22\" class=\"sk-toggleable__label sk-toggleable__label-arrow\">StandardScaler</label><div class=\"sk-toggleable__content\"><pre>StandardScaler()</pre></div></div></div></div></div></div></div></div><div class=\"sk-parallel-item\"><div class=\"sk-item\"><div class=\"sk-label-container\"><div class=\"sk-label sk-toggleable\"><input class=\"sk-toggleable__control sk-hidden--visually\" id=\"sk-estimator-id-23\" type=\"checkbox\" ><label for=\"sk-estimator-id-23\" class=\"sk-toggleable__label sk-toggleable__label-arrow\">cat</label><div class=\"sk-toggleable__content\"><pre>[&#x27;DepartmentCode&#x27;]</pre></div></div></div><div class=\"sk-serial\"><div class=\"sk-item\"><div class=\"sk-serial\"><div class=\"sk-item\"><div class=\"sk-estimator sk-toggleable\"><input class=\"sk-toggleable__control sk-hidden--visually\" id=\"sk-estimator-id-24\" type=\"checkbox\" ><label for=\"sk-estimator-id-24\" class=\"sk-toggleable__label sk-toggleable__label-arrow\">SimpleImputer</label><div class=\"sk-toggleable__content\"><pre>SimpleImputer(strategy=&#x27;most_frequent&#x27;)</pre></div></div></div><div class=\"sk-item\"><div class=\"sk-estimator sk-toggleable\"><input class=\"sk-toggleable__control sk-hidden--visually\" id=\"sk-estimator-id-25\" type=\"checkbox\" ><label for=\"sk-estimator-id-25\" class=\"sk-toggleable__label sk-toggleable__label-arrow\">OneHotEncoder</label><div class=\"sk-toggleable__content\"><pre>OneHotEncoder(handle_unknown=&#x27;ignore&#x27;)</pre></div></div></div></div></div></div></div></div></div></div></div></div><div class=\"sk-item\"><div class=\"sk-estimator sk-toggleable\"><input class=\"sk-toggleable__control sk-hidden--visually\" id=\"sk-estimator-id-26\" type=\"checkbox\" ><label for=\"sk-estimator-id-26\" class=\"sk-toggleable__label sk-toggleable__label-arrow\">RandomForestClassifier</label><div class=\"sk-toggleable__content\"><pre>RandomForestClassifier(max_depth=20, max_features=0.9, max_samples=0.9,\n",
       "                       min_samples_leaf=4, min_samples_split=15,\n",
       "                       n_estimators=750, n_jobs=-1, random_state=42)</pre></div></div></div></div></div></div></div>"
      ],
      "text/plain": [
       "Pipeline(steps=[('full',\n",
       "                 Pipeline(steps=[('feature_engineering', FeatureEngineering()),\n",
       "                                 ('preprocessing',\n",
       "                                  ColumnTransformer(transformers=[('num',\n",
       "                                                                   Pipeline(steps=[('imputer',\n",
       "                                                                                    SimpleImputer(strategy='median')),\n",
       "                                                                                   ('scaler',\n",
       "                                                                                    StandardScaler())]),\n",
       "                                                                   ['HighStress',\n",
       "                                                                    'LongDist',\n",
       "                                                                    'Gender',\n",
       "                                                                    'SupervisorReview',\n",
       "                                                                    'SelfReview',\n",
       "                                                                    'Raise',\n",
       "                                                                    'Salary',\n",
       "                                                                    'ReviewOverRaise',\n",
       "                                                                    'PreviousSalary']),\n",
       "                                                                  ('cat',\n",
       "                                                                   Pipeline(steps=[('imputer',\n",
       "                                                                                    SimpleImputer(strategy='most_frequent')),\n",
       "                                                                                   ('onehot',\n",
       "                                                                                    OneHotEncoder(handle_unknown='ignore'))]),\n",
       "                                                                   ['DepartmentCode'])]))])),\n",
       "                ('clf',\n",
       "                 RandomForestClassifier(max_depth=20, max_features=0.9,\n",
       "                                        max_samples=0.9, min_samples_leaf=4,\n",
       "                                        min_samples_split=15, n_estimators=750,\n",
       "                                        n_jobs=-1, random_state=42))])"
      ]
     },
     "execution_count": 65,
     "metadata": {},
     "output_type": "execute_result"
    }
   ],
   "source": [
    "p.fit(X_train, y_train)\n",
    "p"
   ]
  },
  {
   "cell_type": "code",
   "execution_count": 66,
   "id": "946c22ab-0429-4ecf-a4c0-8a624351c710",
   "metadata": {},
   "outputs": [],
   "source": [
    "y_pred = p.predict(X_test)"
   ]
  },
  {
   "cell_type": "code",
   "execution_count": 85,
   "id": "ae5898eb-cdf5-455d-b4de-acf37673169f",
   "metadata": {},
   "outputs": [
    {
     "name": "stdout",
     "output_type": "stream",
     "text": [
      "Classification Report:\n",
      "\n",
      "              precision    recall  f1-score   support\n",
      "\n",
      "           0       0.81      0.82      0.81     63963\n",
      "           1       0.67      0.65      0.66     36037\n",
      "\n",
      "    accuracy                           0.76    100000\n",
      "   macro avg       0.74      0.74      0.74    100000\n",
      "weighted avg       0.76      0.76      0.76    100000\n",
      "\n"
     ]
    }
   ],
   "source": [
    "from sklearn.metrics import classification_report\n",
    "print(\"Classification Report:\\n\")\n",
    "print(classification_report(y_ans, y_pred))"
   ]
  },
  {
   "cell_type": "code",
   "execution_count": 83,
   "id": "f945fa43-1344-4ea6-93a9-c566de2158e6",
   "metadata": {},
   "outputs": [],
   "source": [
    "y_ans = y_ans.iloc[X_test.index]"
   ]
  },
  {
   "cell_type": "code",
   "execution_count": 89,
   "id": "bcc328c0-9a37-4ced-8a0b-4499053c4c40",
   "metadata": {},
   "outputs": [
    {
     "name": "stdout",
     "output_type": "stream",
     "text": [
      "(array([0, 1]), array([65310, 34690], dtype=int64))\n",
      "(array([0, 1]), array([65352, 34648], dtype=int64))\n"
     ]
    }
   ],
   "source": [
    "print(np.unique(y_test, return_counts=True))\n",
    "print(np.unique(y_pred, return_counts=True))"
   ]
  },
  {
   "cell_type": "code",
   "execution_count": 95,
   "id": "9d04d7cf-64f5-421f-a8f4-d4d9f2f11a6d",
   "metadata": {},
   "outputs": [
    {
     "data": {
      "text/plain": [
       "108"
      ]
     },
     "execution_count": 95,
     "metadata": {},
     "output_type": "execute_result"
    }
   ],
   "source": [
    "np.sum(y_test != y_pred)"
   ]
  },
  {
   "cell_type": "code",
   "execution_count": 97,
   "id": "bd9f18f3-231d-4c75-95d3-6d46642886b2",
   "metadata": {},
   "outputs": [
    {
     "data": {
      "text/plain": [
       "(array([0, 1]), array([65310, 34690], dtype=int64))"
      ]
     },
     "execution_count": 97,
     "metadata": {},
     "output_type": "execute_result"
    }
   ],
   "source": [
    "np.unique(y_test, return_counts=True)"
   ]
  }
 ],
 "metadata": {
  "kernelspec": {
   "display_name": "Python 3 (ipykernel)",
   "language": "python",
   "name": "python3"
  },
  "language_info": {
   "codemirror_mode": {
    "name": "ipython",
    "version": 3
   },
   "file_extension": ".py",
   "mimetype": "text/x-python",
   "name": "python",
   "nbconvert_exporter": "python",
   "pygments_lexer": "ipython3",
   "version": "3.12.4"
  }
 },
 "nbformat": 4,
 "nbformat_minor": 5
}
